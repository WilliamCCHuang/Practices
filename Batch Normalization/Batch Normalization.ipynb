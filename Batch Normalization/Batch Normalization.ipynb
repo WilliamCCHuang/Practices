{
 "cells": [
  {
   "cell_type": "markdown",
   "metadata": {},
   "source": [
    "# Batch Normalization"
   ]
  },
  {
   "cell_type": "markdown",
   "metadata": {},
   "source": [
    "![Alt text](1.png)"
   ]
  },
  {
   "cell_type": "markdown",
   "metadata": {},
   "source": [
    "![Alt text](2.png)"
   ]
  },
  {
   "cell_type": "markdown",
   "metadata": {
    "collapsed": true
   },
   "source": [
    "![Alt text](3.png)"
   ]
  },
  {
   "cell_type": "markdown",
   "metadata": {
    "collapsed": true
   },
   "source": [
    "![Alt text](4.png)"
   ]
  },
  {
   "cell_type": "markdown",
   "metadata": {},
   "source": [
    "Training:\n",
    "\n",
    "    1. Normalize layer activations according to mini-batch statistics.\n",
    "    2. During the training step, update population statistics approximation via moving average of mini-batch statistics.\n",
    "\n",
    "Testing:\n",
    "\n",
    "    1. Normalize layer activations according to estimated population statistics.\n",
    "    2. Do not update population statistics according to mini-batch statistcs from test data."
   ]
  },
  {
   "cell_type": "code",
   "execution_count": 1,
   "metadata": {},
   "outputs": [
    {
     "name": "stderr",
     "output_type": "stream",
     "text": [
      "/Users/william/anaconda3/lib/python3.6/importlib/_bootstrap.py:205: RuntimeWarning: compiletime version 3.5 of module 'tensorflow.python.framework.fast_tensor_util' does not match runtime version 3.6\n",
      "  return f(*args, **kwds)\n"
     ]
    }
   ],
   "source": [
    "import numpy as np\n",
    "import tensorflow as tf\n",
    "from tensorflow.examples.tutorials.mnist import input_data\n",
    "\n",
    "from tqdm import tqdm_notebook\n",
    "import matplotlib.pyplot as plt\n",
    "%matplotlib inline"
   ]
  },
  {
   "cell_type": "code",
   "execution_count": 2,
   "metadata": {},
   "outputs": [
    {
     "name": "stdout",
     "output_type": "stream",
     "text": [
      "Extracting ../MNIST_data/train-images-idx3-ubyte.gz\n",
      "Extracting ../MNIST_data/train-labels-idx1-ubyte.gz\n",
      "Extracting ../MNIST_data/t10k-images-idx3-ubyte.gz\n",
      "Extracting ../MNIST_data/t10k-labels-idx1-ubyte.gz\n"
     ]
    }
   ],
   "source": [
    "mnist = input_data.read_data_sets('../MNIST_data', one_hot=True)"
   ]
  },
  {
   "cell_type": "markdown",
   "metadata": {},
   "source": [
    "### tf.contrib.layers.batch_norm\n",
    "http://ruishu.io/2016/12/27/batchnorm/"
   ]
  },
  {
   "cell_type": "markdown",
   "metadata": {},
   "source": [
    "Note:\n",
    "When `is_training` is True the `moving_mean` and `moving_variance` need to be updated, by default the `update_ops` are placed in `tf.GraphKeys.UPDATE_OPS` so they need to be added as a dependency to the `train_op`, example:\n",
    "\n",
    "```python\n",
    "x_norm = tf.layers.batch_normalization(x, training=training)\n",
    "\n",
    "  # ...\n",
    "\n",
    "  update_ops = tf.get_collection(tf.GraphKeys.UPDATE_OPS)\n",
    "  with tf.control_dependencies(update_ops):\n",
    "    train_op = optimizer.minimize(loss)\n",
    "```"
   ]
  },
  {
   "cell_type": "code",
   "execution_count": 3,
   "metadata": {},
   "outputs": [],
   "source": [
    "def dense(x, size, activation, scope):\n",
    "    with tf.variable_scope(scope):\n",
    "        output = tf.contrib.layers.fully_connected(inputs=x, num_outputs=size, activation_fn=None, scope='dense')\n",
    "        output = tf.nn.relu(output, name='relu') if activation=='relu' else output\n",
    "        \n",
    "        return output\n",
    "\n",
    "def dense_batch_relu(x, size, phase, scope):\n",
    "    with tf.variable_scope(scope):\n",
    "        h1 = tf.contrib.layers.fully_connected(inputs=x, num_outputs=size, activation_fn=None, scope='dense')\n",
    "        h2 = tf.contrib.layers.batch_norm(inputs=h1, center=True, scale=True, is_training=phase, scope='bn')\n",
    "        output = tf.nn.relu(h2, name='relu')\n",
    "        \n",
    "        return output\n",
    "    \n",
    "def dense_relu_batch(x, size, phase, scope):\n",
    "    with tf.variable_scope(scope):\n",
    "        h1 = tf.contrib.layers.fully_connected(inputs=x, num_outputs=size, activation_fn=None, scope='dense')\n",
    "        h2 = tf.nn.relu(h1, name='relu')\n",
    "        output = tf.contrib.layers.batch_norm(inputs=h2, center=True, scale=True, is_training=phase, scope='bn')\n",
    "        \n",
    "        return output"
   ]
  },
  {
   "cell_type": "code",
   "execution_count": 4,
   "metadata": {
    "collapsed": true
   },
   "outputs": [],
   "source": [
    "accuracy_list = []\n",
    "accuracy_bn_list = []\n",
    "accuracy_post_bn_list = []"
   ]
  },
  {
   "cell_type": "code",
   "execution_count": 5,
   "metadata": {
    "collapsed": true
   },
   "outputs": [],
   "source": [
    "lr = 0.001\n",
    "batch_size = 100\n",
    "hidden_size = 100\n",
    "iterep = 500"
   ]
  },
  {
   "cell_type": "markdown",
   "metadata": {},
   "source": [
    "The `phase` term. We are going to use as a placeholder for a boolean which we will insert into `feed_dict`. It will serve as a binary indicator for whether we are in training `phase=True` or testing `phase=False` mode."
   ]
  },
  {
   "cell_type": "markdown",
   "metadata": {},
   "source": [
    "When you execute an operation (such as `train_step`), only the subgraph components relevant to `train_step` will be executed. Unfortunately, the `update_moving_averages` operation is not a parent of `train_step` in the computational graph, so we will never update the moving averages! To get around this, we have to explicitly tell the graph:\n",
    "\n",
    "Hey graph, update the moving averages before you finish the training step!\n",
    "\n",
    "Unfortunately, the instructions in the documentation are a little out of date. Furthermore, if you think about it a little more, you may conclude that attaching the `update` ops to `total_loss` may not be desirable if you wish to compute the `total_loss` of the test set during test time. Personally, I think it makes more sense to attach the `update` ops to the `train_step` itself. So I modified the code a little and created the following training function"
   ]
  },
  {
   "cell_type": "code",
   "execution_count": 6,
   "metadata": {
    "scrolled": false
   },
   "outputs": [
    {
     "data": {
      "application/vnd.jupyter.widget-view+json": {
       "model_id": "12e653c723d7415ea090be790ea053f0",
       "version_major": 2,
       "version_minor": 0
      },
      "text/plain": [
       "A Jupyter Widget"
      ]
     },
     "metadata": {},
     "output_type": "display_data"
    },
    {
     "data": {
      "application/vnd.jupyter.widget-view+json": {
       "model_id": "510d504a224f4908901b9080dedc9a51",
       "version_major": 2,
       "version_minor": 0
      },
      "text/plain": [
       "A Jupyter Widget"
      ]
     },
     "metadata": {},
     "output_type": "display_data"
    },
    {
     "data": {
      "application/vnd.jupyter.widget-view+json": {
       "model_id": "642fa8766a3d496b81ad52162295165e",
       "version_major": 2,
       "version_minor": 0
      },
      "text/plain": [
       "A Jupyter Widget"
      ]
     },
     "metadata": {},
     "output_type": "display_data"
    },
    {
     "data": {
      "application/vnd.jupyter.widget-view+json": {
       "model_id": "00cf04d5ada5416aa722e4e3de226b5b",
       "version_major": 2,
       "version_minor": 0
      },
      "text/plain": [
       "A Jupyter Widget"
      ]
     },
     "metadata": {},
     "output_type": "display_data"
    },
    {
     "name": "stdout",
     "output_type": "stream",
     "text": [
      "\n"
     ]
    }
   ],
   "source": [
    "for i in tqdm_notebook(range(3)):\n",
    "    tf.reset_default_graph()\n",
    "    \n",
    "    ### input\n",
    "    x = tf.placeholder(dtype='float32', shape=[None, 28*28], name='x')\n",
    "    y = tf.placeholder(dtype='float32', shape=[None, 10], name='y')\n",
    "    phase = tf.placeholder(dtype=tf.bool, name='phase')\n",
    "    \n",
    "    ### layers\n",
    "    if i == 0:\n",
    "        h1 = dense(x, hidden_size, 'relu', 'layer1')\n",
    "        h2 = dense(h1, hidden_size, 'relu', 'layer2')\n",
    "    elif i == 1:\n",
    "        h1 = dense_batch_relu(x, hidden_size, phase, 'layer1')\n",
    "        h2 = dense_batch_relu(h1, hidden_size, phase, 'layer2')\n",
    "    else:\n",
    "        h1 = dense_relu_batch(x, hidden_size, phase, 'layer1')\n",
    "        h2 = dense_relu_batch(h1, hidden_size, phase, 'layer2')\n",
    "    logits = dense(h2, 10, None, 'logits')\n",
    "    \n",
    "    ### output\n",
    "    with tf.name_scope('loss'):\n",
    "        loss = tf.reduce_mean(tf.nn.softmax_cross_entropy_with_logits(labels=y, logits=logits))\n",
    "    with tf.name_scope('accuracy'):\n",
    "        accuracy = tf.reduce_mean(tf.cast(tf.equal(tf.argmax(y, 1), tf.argmax(logits, 1)), 'float32'))\n",
    "    \n",
    "    ### training\n",
    "    update_ops = tf.get_collection(tf.GraphKeys.UPDATE_OPS)\n",
    "    with tf.control_dependencies(update_ops):\n",
    "        # Ensures that we execute the update_ops before performing the train_step\n",
    "        train_step = tf.train.AdamOptimizer(lr).minimize(loss)\n",
    "    \n",
    "    history = []\n",
    "    \n",
    "    with tf.Session() as sess:\n",
    "        sess.run(tf.global_variables_initializer())\n",
    "        \n",
    "        for j in tqdm_notebook(range(iterep * 30)):\n",
    "            x_train, y_train = mnist.train.next_batch(batch_size)\n",
    "            sess.run(train_step, feed_dict={x:x_train,\n",
    "                                            y:y_train,\n",
    "                                            phase:1})\n",
    "            \n",
    "            if (j+1) % iterep == 0:\n",
    "                epoch = (j+1) / iterep\n",
    "                train = sess.run([loss, accuracy], feed_dict={x:mnist.train.images,\n",
    "                                                              y:mnist.train.labels,\n",
    "                                                              phase:1})\n",
    "                test  = sess.run([loss, accuracy], feed_dict={x:mnist.test.images,\n",
    "                                                              y:mnist.test.labels,\n",
    "                                                              phase:0})\n",
    "                history += [[epoch] + train + test]\n",
    "                \n",
    "                if i == 0:\n",
    "                    accuracy_list.append(test[-1])\n",
    "                elif i == 1:\n",
    "                    accuracy_bn_list.append(test[-1])\n",
    "                else:\n",
    "                    accuracy_post_bn_list.append(test[-1])\n",
    "                \n",
    "#                 print(history[-1])"
   ]
  },
  {
   "cell_type": "code",
   "execution_count": 7,
   "metadata": {},
   "outputs": [
    {
     "data": {
      "text/plain": [
       "<matplotlib.legend.Legend at 0x1a1e1f0400>"
      ]
     },
     "execution_count": 7,
     "metadata": {},
     "output_type": "execute_result"
    },
    {
     "data": {
      "image/png": "[encoded data removed]",
      "text/plain": [
       "<matplotlib.figure.Figure at 0x1a14aa9710>"
      ]
     },
     "metadata": {},
     "output_type": "display_data"
    }
   ],
   "source": [
    "fig = plt.figure(figsize=(12, 8))\n",
    "plt.plot(accuracy_list, 'b', label='no bn')\n",
    "plt.plot(accuracy_bn_list, 'g', label='bn')\n",
    "plt.plot(accuracy_post_bn_list, 'r', label='post_bn')\n",
    "plt.title('Accuracy')\n",
    "plt.legend()"
   ]
  },
  {
   "cell_type": "code",
   "execution_count": null,
   "metadata": {
    "collapsed": true
   },
   "outputs": [],
   "source": []
  }
 ],
 "metadata": {
  "kernelspec": {
   "display_name": "Python 3",
   "language": "python",
   "name": "python3"
  },
  "language_info": {
   "codemirror_mode": {
    "name": "ipython",
    "version": 3
   },
   "file_extension": ".py",
   "mimetype": "text/x-python",
   "name": "python",
   "nbconvert_exporter": "python",
   "pygments_lexer": "ipython3",
   "version": "3.6.2"
  }
 },
 "nbformat": 4,
 "nbformat_minor": 2
}
