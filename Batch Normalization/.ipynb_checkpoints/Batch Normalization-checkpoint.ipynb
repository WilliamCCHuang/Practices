{
 "cells": [
  {
   "cell_type": "markdown",
   "metadata": {},
   "source": [
    "# Batch Normalization"
   ]
  },
  {
   "cell_type": "markdown",
   "metadata": {},
   "source": [
    "![Alt text](1.png)"
   ]
  },
  {
   "cell_type": "markdown",
   "metadata": {},
   "source": [
    "![Alt text](2.png)"
   ]
  },
  {
   "cell_type": "markdown",
   "metadata": {
    "collapsed": true
   },
   "source": [
    "![Alt text](1.png)"
   ]
  },
  {
   "cell_type": "markdown",
   "metadata": {
    "collapsed": true
   },
   "source": [
    "![Alt text](1.png)"
   ]
  },
  {
   "cell_type": "markdown",
   "metadata": {
    "collapsed": true
   },
   "source": [
    "![Alt text](1.png)"
   ]
  },
  {
   "cell_type": "markdown",
   "metadata": {
    "collapsed": true
   },
   "source": [
    "![Alt text](1.png)"
   ]
  },
  {
   "cell_type": "markdown",
   "metadata": {},
   "source": [
    "Training:\n",
    "\n",
    "    1. Normalize layer activations according to mini-batch statistics.\n",
    "    2. During the training step, update population statistics approximation via moving average of mini-batch statistics.\n",
    "\n",
    "Testing:\n",
    "\n",
    "    1. Normalize layer activations according to estimated population statistics.\n",
    "    2. Do not update population statistics according to mini-batch statistcs from test data."
   ]
  },
  {
   "cell_type": "code",
   "execution_count": 1,
   "metadata": {},
   "outputs": [
    {
     "name": "stderr",
     "output_type": "stream",
     "text": [
      "/Users/william/anaconda3/lib/python3.6/importlib/_bootstrap.py:205: RuntimeWarning: compiletime version 3.5 of module 'tensorflow.python.framework.fast_tensor_util' does not match runtime version 3.6\n",
      "  return f(*args, **kwds)\n"
     ]
    }
   ],
   "source": [
    "import numpy as np\n",
    "import tensorflow as tf\n",
    "from tensorflow.examples.tutorials.mnist import input_data\n",
    "\n",
    "import matplotlib.pyplot as plt\n",
    "%matplotlib inline"
   ]
  },
  {
   "cell_type": "code",
   "execution_count": 2,
   "metadata": {},
   "outputs": [
    {
     "name": "stdout",
     "output_type": "stream",
     "text": [
      "Extracting ../MNIST_data/train-images-idx3-ubyte.gz\n",
      "Extracting ../MNIST_data/train-labels-idx1-ubyte.gz\n",
      "Extracting ../MNIST_data/t10k-images-idx3-ubyte.gz\n",
      "Extracting ../MNIST_data/t10k-labels-idx1-ubyte.gz\n"
     ]
    }
   ],
   "source": [
    "mnist = input_data.read_data_sets('../MNIST_data', one_hot=True)"
   ]
  },
  {
   "cell_type": "markdown",
   "metadata": {},
   "source": [
    "### tf.contrib.layers.batch_norm"
   ]
  },
  {
   "cell_type": "markdown",
   "metadata": {},
   "source": [
    "Note:\n",
    "When `is_training` is True the `moving_mean` and `moving_variance` need to be updated, by default the `update_ops` are placed in `tf.GraphKeys.UPDATE_OPS` so they need to be added as a dependency to the `train_op`, example:\n",
    "\n",
    "```python\n",
    "update_ops = tf.get_collection(tf.GraphKeys.UPDATE_OPS) if update_ops: updates = tf.group(*update_ops) total_loss = control_flow_ops.with_dependencies([updates], total_loss)\n",
    "```"
   ]
  },
  {
   "cell_type": "code",
   "execution_count": 3,
   "metadata": {
    "collapsed": true
   },
   "outputs": [],
   "source": [
    "def dense(x, size, activation, scope):\n",
    "    output = tf.contrib.layers.fully_connected(inputs=x, num_outputs=size, activation_fn=None, scope=scope)\n",
    "    output = tf.nn.relu(output, name='relu') if activation='relu' else output\n",
    "\n",
    "def dense_batch_relu(x, size, phase, scope):\n",
    "    with tf.variable_scope(scope):\n",
    "        h1 = tf.contrib.layers.fully_connected(inputs=x, num_outputs=size, activation_fn=None, scope='dense')\n",
    "        h2 = tf.contrib.layers.batch_norm(inputs=h1, center=True, scale=True, is_training=phase, scope='bn')\n",
    "        output = tf.nn.relu(h2, name='relu')\n",
    "        \n",
    "        return output\n",
    "    \n",
    "def dense_relu_batch(x, size, phase, scope):\n",
    "    with tf.variable_scope(scope):\n",
    "        h1 = tf.contrib.layers.fully_connected(inputs=x, num_outputs=size, activation_fn=None, scope='dense')\n",
    "        h2 = tf.nn.relu(h1, name='relu')\n",
    "        output = tf.contrib.layers.batch_norm(inputs=h2, center=True, scale=True, is_training=phase, scope='bn')\n",
    "        \n",
    "        return output"
   ]
  },
  {
   "cell_type": "code",
   "execution_count": 4,
   "metadata": {
    "collapsed": true
   },
   "outputs": [],
   "source": [
    "accuracy_list = []\n",
    "accuracy_bn_list = []\n",
    "accuracy_post_bn_list = []"
   ]
  },
  {
   "cell_type": "code",
   "execution_count": 5,
   "metadata": {
    "collapsed": true
   },
   "outputs": [],
   "source": [
    "lr = 0.001\n",
    "size = 100\n",
    "batch_size = 100\n",
    "iterep = 500"
   ]
  },
  {
   "cell_type": "code",
   "execution_count": 6,
   "metadata": {
    "collapsed": true
   },
   "outputs": [],
   "source": [
    "dictionary = {0:'dense', 1:'dense+bn', 2:'dense+post_bn'}"
   ]
  },
  {
   "cell_type": "code",
   "execution_count": 7,
   "metadata": {
    "scrolled": false
   },
   "outputs": [
    {
     "name": "stdout",
     "output_type": "stream",
     "text": [
      "dense\n",
      "[1.0, 0.29887372, 0.91585457, 0.29708862, 0.91409999]\n",
      "[2.0, 0.28140271, 0.92132729, 0.28901881, 0.91829997]\n",
      "[3.0, 0.27500826, 0.9242, 0.29330742, 0.92009997]\n",
      "[4.0, 0.25732633, 0.92865455, 0.27423489, 0.9224]\n",
      "[5.0, 0.26111621, 0.92754543, 0.28190991, 0.92180002]\n",
      "[6.0, 0.27261406, 0.92358184, 0.29866707, 0.91750002]\n",
      "[7.0, 0.26709577, 0.92119998, 0.29312819, 0.91549999]\n",
      "[8.0, 0.25263771, 0.9282909, 0.28109512, 0.92269999]\n",
      "[9.0, 0.2511037, 0.92983639, 0.28508002, 0.92129999]\n",
      "[10.0, 0.25311992, 0.92854548, 0.28639454, 0.92119998]\n",
      "[11.0, 0.261951, 0.92638183, 0.30199108, 0.91640002]\n",
      "[12.0, 0.24491058, 0.93283635, 0.28617582, 0.9242]\n",
      "[13.0, 0.24552841, 0.93118179, 0.27748623, 0.92290002]\n",
      "[14.0, 0.24753085, 0.9291091, 0.2823928, 0.92119998]\n",
      "[15.0, 0.23935232, 0.9332, 0.27767977, 0.92290002]\n",
      "[16.0, 0.24802184, 0.92978179, 0.29111016, 0.92129999]\n",
      "[17.0, 0.25147906, 0.92727274, 0.29309121, 0.91769999]\n",
      "[18.0, 0.25179267, 0.92739999, 0.30117476, 0.91909999]\n",
      "[19.0, 0.24252608, 0.93269092, 0.28811517, 0.92259997]\n",
      "[20.0, 0.24622108, 0.93129092, 0.28906098, 0.92400002]\n",
      "[21.0, 0.24556437, 0.92994547, 0.29220504, 0.92229998]\n",
      "[22.0, 0.23502529, 0.93409091, 0.28070152, 0.92379999]\n",
      "[23.0, 0.23752046, 0.93249089, 0.27790225, 0.92559999]\n",
      "[24.0, 0.23802318, 0.93436366, 0.29129025, 0.92220002]\n",
      "[25.0, 0.24016187, 0.93227273, 0.28788066, 0.92189997]\n",
      "[26.0, 0.24708615, 0.92936361, 0.29477143, 0.92000002]\n",
      "[27.0, 0.23979765, 0.93225455, 0.2894747, 0.92189997]\n",
      "[28.0, 0.24259152, 0.93221819, 0.29485542, 0.9242]\n",
      "[29.0, 0.23811804, 0.93276364, 0.28858009, 0.92199999]\n",
      "[30.0, 0.23917246, 0.93183637, 0.29332301, 0.92119998]\n",
      "dense+bn\n",
      "[1.0, 0.10809974, 0.96992725, 0.47149009, 0.95359999]\n",
      "[2.0, 0.060452186, 0.9830727, 0.17411998, 0.9637]\n",
      "[3.0, 0.042925809, 0.98841816, 0.12652056, 0.96109998]\n",
      "[4.0, 0.032787677, 0.99101818, 0.11364716, 0.96270001]\n",
      "[5.0, 0.023464518, 0.99396366, 0.087976225, 0.97320002]\n",
      "[6.0, 0.017817952, 0.9956727, 0.078158423, 0.97610003]\n",
      "[7.0, 0.016632827, 0.9958182, 0.08504644, 0.97479999]\n",
      "[8.0, 0.013696019, 0.9962182, 0.079412937, 0.97619998]\n",
      "[9.0, 0.0095768441, 0.99779999, 0.079287201, 0.97780001]\n",
      "[10.0, 0.0083959503, 0.99807274, 0.085752159, 0.97439998]\n",
      "[11.0, 0.0082390532, 0.99792725, 0.077474341, 0.97780001]\n",
      "[12.0, 0.0060734116, 0.99870908, 0.077809021, 0.97780001]\n",
      "[13.0, 0.005961136, 0.99843639, 0.077268489, 0.9795]\n",
      "[14.0, 0.0072810897, 0.99830908, 0.096089445, 0.97399998]\n",
      "[15.0, 0.0092187915, 0.99730909, 0.093665197, 0.97619998]\n",
      "[16.0, 0.0040939301, 0.99900001, 0.081881106, 0.97839999]\n",
      "[17.0, 0.004510921, 0.9987818, 0.092901111, 0.97649997]\n",
      "[18.0, 0.0056061689, 0.99845457, 0.094735578, 0.97829998]\n",
      "[19.0, 0.0042670514, 0.99900001, 0.086862527, 0.97860003]\n",
      "[20.0, 0.0028430196, 0.99940002, 0.082247823, 0.97930002]\n",
      "[21.0, 0.0027486279, 0.99940002, 0.076198325, 0.9788]\n",
      "[22.0, 0.002936929, 0.99923635, 0.090084165, 0.97759998]\n",
      "[23.0, 0.0030453361, 0.99923635, 0.087934136, 0.97960001]\n",
      "[24.0, 0.0042139362, 0.99872726, 0.092455946, 0.9781]\n",
      "[25.0, 0.0021185982, 0.9995091, 0.10061938, 0.97600001]\n",
      "[26.0, 0.0030409547, 0.99900001, 0.085971415, 0.97979999]\n",
      "[27.0, 0.0018652378, 0.99963635, 0.082885057, 0.98009998]\n",
      "[28.0, 0.0024188957, 0.99945456, 0.091861278, 0.97850001]\n",
      "[29.0, 0.003587788, 0.99898183, 0.097306453, 0.9781]\n",
      "[30.0, 0.0031677063, 0.99907273, 0.10510676, 0.97640002]\n",
      "dense+post_bn\n",
      "[1.0, 0.11290743, 0.96692729, 0.7565726, 0.90060002]\n",
      "[2.0, 0.069564149, 0.97934544, 0.3125793, 0.958]\n",
      "[3.0, 0.048090179, 0.98649091, 0.15146612, 0.96710002]\n",
      "[4.0, 0.036091238, 0.9897818, 0.094620205, 0.97210002]\n",
      "[5.0, 0.027652889, 0.9920727, 0.088822275, 0.97229999]\n",
      "[6.0, 0.022352096, 0.99374545, 0.087036386, 0.9727]\n",
      "[7.0, 0.019862136, 0.99425453, 0.097628012, 0.96899998]\n",
      "[8.0, 0.015689233, 0.99532729, 0.084837571, 0.97579998]\n",
      "[9.0, 0.014226818, 0.99587274, 0.084172226, 0.97670001]\n",
      "[10.0, 0.011645028, 0.99685454, 0.084295936, 0.97570002]\n",
      "[11.0, 0.012289971, 0.99665457, 0.097272515, 0.97490001]\n",
      "[12.0, 0.011664161, 0.99658179, 0.10407529, 0.97149998]\n",
      "[13.0, 0.0067492463, 0.99832726, 0.086806521, 0.97820002]\n",
      "[14.0, 0.0069983387, 0.99801821, 0.084844105, 0.9777]\n",
      "[15.0, 0.0065252064, 0.99803638, 0.094262987, 0.97710001]\n",
      "[16.0, 0.0056060669, 0.99841815, 0.086717919, 0.9777]\n",
      "[17.0, 0.0060453624, 0.99821818, 0.094205387, 0.97750002]\n",
      "[18.0, 0.0065356838, 0.99807274, 0.095484689, 0.9763]\n",
      "[19.0, 0.0057893596, 0.99821818, 0.091290392, 0.977]\n",
      "[20.0, 0.0042656926, 0.99887276, 0.094582118, 0.9781]\n",
      "[21.0, 0.0039410074, 0.99881816, 0.096918635, 0.97829998]\n",
      "[22.0, 0.0055165146, 0.99838179, 0.10553294, 0.97539997]\n",
      "[23.0, 0.0032955788, 0.99919999, 0.094054163, 0.97890002]\n",
      "[24.0, 0.0040510786, 0.99876362, 0.090821035, 0.97899997]\n",
      "[25.0, 0.0028146312, 0.99914545, 0.10146084, 0.97500002]\n",
      "[26.0, 0.0033316673, 0.99905455, 0.10245936, 0.977]\n",
      "[27.0, 0.0034012329, 0.99901819, 0.11071351, 0.9752]\n",
      "[28.0, 0.0027139403, 0.9992727, 0.097849093, 0.97729999]\n",
      "[29.0, 0.0077729071, 0.99774545, 0.11290389, 0.97610003]\n",
      "[30.0, 0.0035856362, 0.99883634, 0.11138152, 0.97670001]\n"
     ]
    }
   ],
   "source": [
    "for i in range(3):\n",
    "    tf.reset_default_graph()\n",
    "    \n",
    "    ### input\n",
    "    x = tf.placeholder(dtype='float32', shape=[None, 28*28], name='x')\n",
    "    y = tf.placeholder(dtype='float32', shape=[None, 10], name='y')\n",
    "    phase = tf.placeholder(dtype=tf.bool, name='phase')\n",
    "    \n",
    "    ### layers\n",
    "    if i == 0:\n",
    "        h1 = dense(x, size, 'relu', 'layer1')\n",
    "        h2 = dense(h1, size, 'relu', 'layer2')\n",
    "    elif i == 1:\n",
    "        h1 = dense_batch_relu(x, size, phase, 'layer1')\n",
    "        h2 = dense_batch_relu(h1, size, phase, 'layer2')\n",
    "    else:\n",
    "        h1 = dense_relu_batch(x, size, phase, 'layer1')\n",
    "        h2 = dense_relu_batch(h1, size, phase, 'layer2')\n",
    "    logits = dense(h2, 10, None, 'logits')\n",
    "    \n",
    "    ### output\n",
    "    with tf.name_scope('loss'):\n",
    "        loss = tf.reduce_mean(tf.nn.softmax_cross_entropy_with_logits(labels=y, logits=logits))\n",
    "    with tf.name_scope('accuracy'):\n",
    "        accuracy = tf.reduce_mean(tf.cast(tf.equal(tf.argmax(y, 1), tf.argmax(logits, 1)), 'float32'))\n",
    "    \n",
    "    ### training\n",
    "    update_ops = tf.get_collection(tf.GraphKeys.UPDATE_OPS)\n",
    "    with tf.control_dependencies(update_ops):\n",
    "        # Ensures that we execute the update_ops before performing the train_step\n",
    "        train_step = tf.train.AdamOptimizer(lr).minimize(loss)\n",
    "    \n",
    "    history = []\n",
    "    \n",
    "    with tf.Session() as sess:\n",
    "        sess.run(tf.global_variables_initializer())\n",
    "        \n",
    "        print(dictionary[i])\n",
    "        for j in range(iterep * 30):\n",
    "            x_train, y_train = mnist.train.next_batch(batch_size)\n",
    "            sess.run(train_step, feed_dict={x:x_train,\n",
    "                                            y:y_train,\n",
    "                                            phase:1})\n",
    "            \n",
    "            if (j+1) % iterep == 0:\n",
    "                epoch = (j+1) / iterep\n",
    "                train = sess.run([loss, accuracy], feed_dict={x:mnist.train.images,\n",
    "                                                              y:mnist.train.labels,\n",
    "                                                              phase:1})\n",
    "                test  = sess.run([loss, accuracy], feed_dict={x:mnist.test.images,\n",
    "                                                              y:mnist.test.labels,\n",
    "                                                              phase:0})\n",
    "                history += [[epoch] + train + test]\n",
    "                \n",
    "                if i == 0:\n",
    "                    accuracy_list.append(test[-1])\n",
    "                elif i == 1:\n",
    "                    accuracy_bn_list.append(test[-1])\n",
    "                else:\n",
    "                    accuracy_post_bn_list.append(test[-1])\n",
    "                \n",
    "                print(history[-1])"
   ]
  },
  {
   "cell_type": "code",
   "execution_count": 8,
   "metadata": {},
   "outputs": [
    {
     "data": {
      "text/plain": [
       "<matplotlib.legend.Legend at 0x107dc9320>"
      ]
     },
     "execution_count": 8,
     "metadata": {},
     "output_type": "execute_result"
    },
    {
     "data": {
      "image/png": "[encoded data removed]",
      "text/plain": [
       "<matplotlib.figure.Figure at 0x1a1676cb70>"
      ]
     },
     "metadata": {},
     "output_type": "display_data"
    }
   ],
   "source": [
    "fig = plt.figure(figsize=(8, 8))\n",
    "plt.plot(accuracy_list, 'b', label='no bn')\n",
    "plt.plot(accuracy_bn_list, 'g', label='bn')\n",
    "plt.plot(accuracy_post_bn_list, 'r', label='post_bn')\n",
    "plt.title('Accuracy')\n",
    "plt.legend()"
   ]
  },
  {
   "cell_type": "code",
   "execution_count": null,
   "metadata": {
    "collapsed": true
   },
   "outputs": [],
   "source": []
  }
 ],
 "metadata": {
  "kernelspec": {
   "display_name": "Python 3",
   "language": "python",
   "name": "python3"
  },
  "language_info": {
   "codemirror_mode": {
    "name": "ipython",
    "version": 3
   },
   "file_extension": ".py",
   "mimetype": "text/x-python",
   "name": "python",
   "nbconvert_exporter": "python",
   "pygments_lexer": "ipython3",
   "version": "3.6.2"
  }
 },
 "nbformat": 4,
 "nbformat_minor": 2
}
