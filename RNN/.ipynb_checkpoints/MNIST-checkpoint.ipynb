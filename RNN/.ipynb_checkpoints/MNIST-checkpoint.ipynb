{
 "cells": [
  {
   "cell_type": "markdown",
   "metadata": {},
   "source": [
    "# Mnist with RNN, LSTM and GRU"
   ]
  },
  {
   "cell_type": "markdown",
   "metadata": {},
   "source": [
    "我們把 MNIST 中 28 x 28 維的資料，想像成 28 個時間點，而每一時間點就給 RNN 28 維的向量．換句話說就是讓 RNN \"一列一列地看\" 手寫數字，當看完整個圖片的以後，把他的輸出 H28 先丟給一個全連結層之後再丟給分類器來決定說這個看到的數字屬於哪一類．"
   ]
  },
  {
   "cell_type": "code",
   "execution_count": 1,
   "metadata": {},
   "outputs": [
    {
     "name": "stderr",
     "output_type": "stream",
     "text": [
      "/Users/william/anaconda3/lib/python3.6/importlib/_bootstrap.py:205: RuntimeWarning: compiletime version 3.5 of module 'tensorflow.python.framework.fast_tensor_util' does not match runtime version 3.6\n",
      "  return f(*args, **kwds)\n"
     ]
    },
    {
     "name": "stdout",
     "output_type": "stream",
     "text": [
      "Extracting MNIST_data/train-images-idx3-ubyte.gz\n",
      "Extracting MNIST_data/train-labels-idx1-ubyte.gz\n",
      "Extracting MNIST_data/t10k-images-idx3-ubyte.gz\n",
      "Extracting MNIST_data/t10k-labels-idx1-ubyte.gz\n"
     ]
    }
   ],
   "source": [
    "import time\n",
    "import numpy as np\n",
    "from tqdm import tqdm_notebook\n",
    "import matplotlib.pyplot as plt\n",
    "%matplotlib inline\n",
    "\n",
    "import tensorflow as tf\n",
    "from tensorflow.examples.tutorials.mnist import input_data\n",
    "mnist = input_data.read_data_sets('MNIST_data', one_hot=True)"
   ]
  },
  {
   "cell_type": "markdown",
   "metadata": {},
   "source": [
    "### tf.nn.dynamic_rnn(\n",
    "    cell,\n",
    "    inputs,\n",
    "    sequence_length=None,\n",
    "    initial_state=None,\n",
    "    dtype=None,\n",
    "    parallel_iterations=None,\n",
    "    swap_memory=False,\n",
    "    time_major=False,\n",
    "    scope=None\n",
    ")\n",
    "    \n",
    "    Returns a pair (outputs, state), where:\n",
    "    1. outputs: The RNN output Tensor.\n",
    "        If time_major == False (default), this will be a Tensor shaped: [batch_size, max_time, cell.output_size].\n",
    "        If time_major == True, this will be a Tensor shaped: [max_time, batch_size, cell.output_size].\n",
    "    2. state: The final state.\n",
    "        If cell.state_size is an int, this will be shaped [batch_size, cell.state_size].\n",
    "        If it is a TensorShape, this will be shaped [batch_size] + cell.state_size.\n",
    "        If it is a (possibly nested) tuple of ints or TensorShape, this will be a tuple having the corresponding\n",
    "        shapes. \n",
    "        If cells are LSTMCells state will be a tuple containing a LSTMStateTuple for each cell, that is, \n",
    "        state = (c, h) and the shape of each element is [batch_size, cell.state_size]"
   ]
  },
  {
   "cell_type": "markdown",
   "metadata": {},
   "source": [
    "# RNN: tf.contrib.rnn.BasicRNNCell"
   ]
  },
  {
   "cell_type": "markdown",
   "metadata": {},
   "source": [
    "![Alt text](rnn.png)"
   ]
  },
  {
   "cell_type": "markdown",
   "metadata": {},
   "source": [
    "1. Hidden layer $h_t$\n",
    "\n",
    "    $h_t = \\tanh(W x_t + U h_{t-1})$\n",
    "\n",
    "2. Output layer $o_t$\n",
    "\n",
    "    $o_t = softmax(V h_t)$\n",
    "\n",
    "3. RNN should return a tuple of (outputs, state), where\n",
    "\n",
    "    $outputs = (h_1, \\cdots, h_T)$\n",
    "    \n",
    "    $state = h_T$"
   ]
  },
  {
   "cell_type": "code",
   "execution_count": 2,
   "metadata": {
    "collapsed": true
   },
   "outputs": [],
   "source": [
    "lr = 0.001\n",
    "batch_size = 128\n",
    "\n",
    "n_input = 28\n",
    "n_steps = 28\n",
    "n_hidden = 128\n",
    "n_classes = 10"
   ]
  },
  {
   "cell_type": "code",
   "execution_count": 3,
   "metadata": {
    "collapsed": true
   },
   "outputs": [],
   "source": [
    "x = tf.placeholder(tf.float32, shape=[None, n_steps, n_input], name='input')\n",
    "y = tf.placeholder(tf.float32, shape=[None, n_classes], name='output')"
   ]
  },
  {
   "cell_type": "code",
   "execution_count": 4,
   "metadata": {
    "collapsed": true
   },
   "outputs": [],
   "source": [
    "weight = {\n",
    "    'in':  tf.Variable(tf.random_uniform([n_input, n_hidden], -1., 1.), name='w_in'),\n",
    "    'out': tf.Variable(tf.random_uniform([n_hidden, n_classes], -1., 1.), name='w_out')\n",
    "}\n",
    "b = {\n",
    "    'in':  tf.Variable(tf.constant(0,1, shape=[n_hidden]), name='b_in'),\n",
    "    'out': tf.Variable(tf.constant(0.1, shape=[n_classes]), name='b_out')\n",
    "}"
   ]
  },
  {
   "cell_type": "code",
   "execution_count": 5,
   "metadata": {
    "collapsed": true
   },
   "outputs": [],
   "source": [
    "def RNN(X, weights, bias):\n",
    "    with tf.name_scope('Input_layer'):\n",
    "        X = tf.reshape(X, [-1, n_input])\n",
    "        X_in = tf.matmul(X, weight['in']) + b['in']\n",
    "        X_in = tf.reshape(X_in, [-1, n_steps, n_hidden])\n",
    "        \n",
    "        print('X.shape:', X.get_shape())\n",
    "        print('X_in.shape:', X_in.get_shape())\n",
    "        \n",
    "    with tf.name_scope('RNN_cell'):\n",
    "        rnn_cell = tf.contrib.rnn.BasicRNNCell(num_units=n_hidden)\n",
    "        outputs, final_state = tf.nn.dynamic_rnn(rnn_cell, X_in, dtype=tf.float32)\n",
    "        \n",
    "        print('outputs.shape:', outputs.get_shape())\n",
    "        print('states.shape:', final_state.get_shape())\n",
    "\n",
    "    with tf.name_scope('Output_layer'):\n",
    "        results = tf.matmul(final_state, weight['out']) + b['out']\n",
    "        \n",
    "        print('results.shape:', results.get_shape())\n",
    "    \n",
    "    return results"
   ]
  },
  {
   "cell_type": "code",
   "execution_count": 6,
   "metadata": {},
   "outputs": [
    {
     "name": "stdout",
     "output_type": "stream",
     "text": [
      "X.shape: (?, 28)\n",
      "X_in.shape: (?, 28, 128)\n",
      "outputs.shape: (?, 28, 128)\n",
      "states.shape: (?, 128)\n",
      "results.shape: (?, 10)\n"
     ]
    }
   ],
   "source": [
    "pred = RNN(x, weight, b)"
   ]
  },
  {
   "cell_type": "code",
   "execution_count": 7,
   "metadata": {
    "collapsed": true
   },
   "outputs": [],
   "source": [
    "loss = tf.reduce_mean(tf.nn.softmax_cross_entropy_with_logits(labels=y, logits=pred))\n",
    "train_op = tf.train.AdamOptimizer(lr).minimize(loss)"
   ]
  },
  {
   "cell_type": "code",
   "execution_count": 8,
   "metadata": {
    "collapsed": true
   },
   "outputs": [],
   "source": [
    "correct_pred = tf.equal(tf.argmax(pred, 1), tf.argmax(y, 1))\n",
    "accuracy = tf.reduce_mean(tf.cast(correct_pred, tf.float32))"
   ]
  },
  {
   "cell_type": "code",
   "execution_count": 9,
   "metadata": {
    "collapsed": true
   },
   "outputs": [],
   "source": [
    "init = tf.global_variables_initializer()\n",
    "epoch = 15"
   ]
  },
  {
   "cell_type": "markdown",
   "metadata": {},
   "source": [
    "### Note\n",
    "    a = sess.run(b, feed_dict{...})\n",
    "    a 與 b 必須不同名！"
   ]
  },
  {
   "cell_type": "code",
   "execution_count": 10,
   "metadata": {
    "scrolled": false
   },
   "outputs": [
    {
     "data": {
      "application/vnd.jupyter.widget-view+json": {
       "model_id": "c0acfdf0805b494c8251ff175374c735",
       "version_major": 2,
       "version_minor": 0
      },
      "text/plain": [
       "A Jupyter Widget"
      ]
     },
     "metadata": {},
     "output_type": "display_data"
    },
    {
     "data": {
      "application/vnd.jupyter.widget-view+json": {
       "model_id": "6aae3d7f03fc48ddb315752689b34189",
       "version_major": 2,
       "version_minor": 0
      },
      "text/plain": [
       "A Jupyter Widget"
      ]
     },
     "metadata": {},
     "output_type": "display_data"
    },
    {
     "name": "stdout",
     "output_type": "stream",
     "text": [
      "Epoch: 1, loss:0.47606369853019714, accuracy:0.836899995803833\n"
     ]
    },
    {
     "data": {
      "application/vnd.jupyter.widget-view+json": {
       "model_id": "2cd2e023c04a4d31a8d674bc1bfda410",
       "version_major": 2,
       "version_minor": 0
      },
      "text/plain": [
       "A Jupyter Widget"
      ]
     },
     "metadata": {},
     "output_type": "display_data"
    },
    {
     "name": "stdout",
     "output_type": "stream",
     "text": [
      "Epoch: 2, loss:0.26500511169433594, accuracy:0.9003000259399414\n"
     ]
    },
    {
     "data": {
      "application/vnd.jupyter.widget-view+json": {
       "model_id": "811e4a8cd714452f894ae886cefccc15",
       "version_major": 2,
       "version_minor": 0
      },
      "text/plain": [
       "A Jupyter Widget"
      ]
     },
     "metadata": {},
     "output_type": "display_data"
    },
    {
     "name": "stdout",
     "output_type": "stream",
     "text": [
      "Epoch: 3, loss:0.22824066877365112, accuracy:0.9182999730110168\n"
     ]
    },
    {
     "data": {
      "application/vnd.jupyter.widget-view+json": {
       "model_id": "142da1fb6af648ada3a0d4d771808fb2",
       "version_major": 2,
       "version_minor": 0
      },
      "text/plain": [
       "A Jupyter Widget"
      ]
     },
     "metadata": {},
     "output_type": "display_data"
    },
    {
     "name": "stdout",
     "output_type": "stream",
     "text": [
      "Epoch: 4, loss:0.19268347322940826, accuracy:0.9264000058174133\n"
     ]
    },
    {
     "data": {
      "application/vnd.jupyter.widget-view+json": {
       "model_id": "71f5ee4ba0ab4a308bccb9745c0b366a",
       "version_major": 2,
       "version_minor": 0
      },
      "text/plain": [
       "A Jupyter Widget"
      ]
     },
     "metadata": {},
     "output_type": "display_data"
    },
    {
     "name": "stdout",
     "output_type": "stream",
     "text": [
      "Epoch: 5, loss:0.26148903369903564, accuracy:0.935699999332428\n"
     ]
    },
    {
     "data": {
      "application/vnd.jupyter.widget-view+json": {
       "model_id": "25a055eae1034edb9760fa41449e312d",
       "version_major": 2,
       "version_minor": 0
      },
      "text/plain": [
       "A Jupyter Widget"
      ]
     },
     "metadata": {},
     "output_type": "display_data"
    },
    {
     "name": "stdout",
     "output_type": "stream",
     "text": [
      "Epoch: 6, loss:0.18102282285690308, accuracy:0.9520000219345093\n"
     ]
    },
    {
     "data": {
      "application/vnd.jupyter.widget-view+json": {
       "model_id": "013db047bfb74ca4b8bda2a1463fe839",
       "version_major": 2,
       "version_minor": 0
      },
      "text/plain": [
       "A Jupyter Widget"
      ]
     },
     "metadata": {},
     "output_type": "display_data"
    },
    {
     "name": "stdout",
     "output_type": "stream",
     "text": [
      "Epoch: 7, loss:0.17655782401561737, accuracy:0.9552000164985657\n"
     ]
    },
    {
     "data": {
      "application/vnd.jupyter.widget-view+json": {
       "model_id": "e02564ee2981496a8e4def4500818245",
       "version_major": 2,
       "version_minor": 0
      },
      "text/plain": [
       "A Jupyter Widget"
      ]
     },
     "metadata": {},
     "output_type": "display_data"
    },
    {
     "name": "stdout",
     "output_type": "stream",
     "text": [
      "Epoch: 8, loss:0.12216518074274063, accuracy:0.9546999931335449\n"
     ]
    },
    {
     "data": {
      "application/vnd.jupyter.widget-view+json": {
       "model_id": "d5bd3922e2ff42fbbba052ca2a861506",
       "version_major": 2,
       "version_minor": 0
      },
      "text/plain": [
       "A Jupyter Widget"
      ]
     },
     "metadata": {},
     "output_type": "display_data"
    },
    {
     "name": "stdout",
     "output_type": "stream",
     "text": [
      "Epoch: 9, loss:0.14815959334373474, accuracy:0.9284999966621399\n"
     ]
    },
    {
     "data": {
      "application/vnd.jupyter.widget-view+json": {
       "model_id": "3abd21d08d074873a39513d98f454f9e",
       "version_major": 2,
       "version_minor": 0
      },
      "text/plain": [
       "A Jupyter Widget"
      ]
     },
     "metadata": {},
     "output_type": "display_data"
    },
    {
     "name": "stdout",
     "output_type": "stream",
     "text": [
      "Epoch:10, loss:0.05258359760046005, accuracy:0.9656999707221985\n"
     ]
    },
    {
     "data": {
      "application/vnd.jupyter.widget-view+json": {
       "model_id": "fa3361745650432c9d59513913b040bd",
       "version_major": 2,
       "version_minor": 0
      },
      "text/plain": [
       "A Jupyter Widget"
      ]
     },
     "metadata": {},
     "output_type": "display_data"
    },
    {
     "name": "stdout",
     "output_type": "stream",
     "text": [
      "Epoch:11, loss:0.12430745363235474, accuracy:0.9641000032424927\n"
     ]
    },
    {
     "data": {
      "application/vnd.jupyter.widget-view+json": {
       "model_id": "c080657178bf45c0af759febd82644d5",
       "version_major": 2,
       "version_minor": 0
      },
      "text/plain": [
       "A Jupyter Widget"
      ]
     },
     "metadata": {},
     "output_type": "display_data"
    },
    {
     "name": "stdout",
     "output_type": "stream",
     "text": [
      "Epoch:12, loss:0.06398145109415054, accuracy:0.9650999903678894\n"
     ]
    },
    {
     "data": {
      "application/vnd.jupyter.widget-view+json": {
       "model_id": "51a1d1744589478fba784a5bf51dced9",
       "version_major": 2,
       "version_minor": 0
      },
      "text/plain": [
       "A Jupyter Widget"
      ]
     },
     "metadata": {},
     "output_type": "display_data"
    },
    {
     "name": "stdout",
     "output_type": "stream",
     "text": [
      "Epoch:13, loss:0.1245783269405365, accuracy:0.9627000093460083\n"
     ]
    },
    {
     "data": {
      "application/vnd.jupyter.widget-view+json": {
       "model_id": "c2aa0901b94948c29afa2c2a6036be1f",
       "version_major": 2,
       "version_minor": 0
      },
      "text/plain": [
       "A Jupyter Widget"
      ]
     },
     "metadata": {},
     "output_type": "display_data"
    },
    {
     "name": "stdout",
     "output_type": "stream",
     "text": [
      "Epoch:14, loss:0.11606055498123169, accuracy:0.9610000252723694\n"
     ]
    },
    {
     "data": {
      "application/vnd.jupyter.widget-view+json": {
       "model_id": "e5a75d8036e747d493534875762a9504",
       "version_major": 2,
       "version_minor": 0
      },
      "text/plain": [
       "A Jupyter Widget"
      ]
     },
     "metadata": {},
     "output_type": "display_data"
    },
    {
     "name": "stdout",
     "output_type": "stream",
     "text": [
      "Epoch:15, loss:0.19578301906585693, accuracy:0.9387000203132629\n",
      "\n",
      "******************************\n",
      "Training finish.\n",
      "Cost time: 317 s\n",
      "Accuracy: 0.9387\n"
     ]
    }
   ],
   "source": [
    "start = time.time()\n",
    "rnn_loss_list = []\n",
    "rnn_accuracy_list = []\n",
    "\n",
    "with tf.Session() as sess:\n",
    "    writer = tf.summary.FileWriter('logs/rnn_logs/', sess.graph)\n",
    "    sess.run(init)\n",
    "    \n",
    "    batch = int(mnist.train.num_examples / batch_size)\n",
    "    test_x = mnist.test.images.reshape([-1, n_steps, n_input])\n",
    "    test_y = mnist.test.labels\n",
    "    \n",
    "    for epoch in tqdm_notebook(range(epoch)):\n",
    "        for i in tqdm_notebook(range(batch)):\n",
    "            batch_x, batch_y = mnist.train.next_batch(batch_size)\n",
    "            batch_x = batch_x.reshape([batch_size, n_steps, n_input])\n",
    "            sess.run(train_op, feed_dict={x: batch_x, y: batch_y})\n",
    "        _loss = sess.run(loss, feed_dict={x: batch_x, y: batch_y})\n",
    "        _accuracy  = sess.run(accuracy, feed_dict={x: test_x, y: test_y})\n",
    "        rnn_loss_list.append(_loss)\n",
    "        rnn_accuracy_list.append(_accuracy)\n",
    "        print('Epoch:{:2d}, loss:{}, accuracy:{}'.format(epoch+1, _loss, _accuracy))\n",
    "    \n",
    "    end = time.time()\n",
    "    print('*'*30)\n",
    "    print('Training finish.')\n",
    "    print('Cost time:', int(end-start), 's')\n",
    "    print('Accuracy:', _accuracy)"
   ]
  },
  {
   "cell_type": "code",
   "execution_count": 11,
   "metadata": {},
   "outputs": [
    {
     "data": {
      "text/plain": [
       "<matplotlib.text.Text at 0x1a25be97b8>"
      ]
     },
     "execution_count": 11,
     "metadata": {},
     "output_type": "execute_result"
    },
    {
     "data": {
      "image/png": "[encoded data removed]",
      "text/plain": [
       "<matplotlib.figure.Figure at 0x1a258fb9b0>"
      ]
     },
     "metadata": {},
     "output_type": "display_data"
    }
   ],
   "source": [
    "fig = plt.figure(figsize=(12,5))\n",
    "plt.subplot(1, 2, 1)\n",
    "plt.plot(rnn_loss_list)\n",
    "plt.xlabel('Epoch')\n",
    "plt.title('RNN Loss')\n",
    "\n",
    "plt.subplot(1, 2, 2)\n",
    "plt.plot(rnn_accuracy_list)\n",
    "plt.xlabel('Epoch')\n",
    "plt.title('RNN Accuracy')"
   ]
  },
  {
   "cell_type": "markdown",
   "metadata": {},
   "source": [
    "# LSTM: tf.contrib.rnn.BasicLSTMCell"
   ]
  },
  {
   "cell_type": "markdown",
   "metadata": {},
   "source": [
    "![Alt text](lstm.png)"
   ]
  },
  {
   "cell_type": "markdown",
   "metadata": {},
   "source": [
    "1. Forget gate $f_t$, Input gate $i_t$, Output gate $o_t$\n",
    "\n",
    "    $f_t = \\sigma(W_f x_t + U_f h_{t-1})$\n",
    "    \n",
    "    $i_t = \\sigma(W_i x_t + U_i h_{t-1})$\n",
    "    \n",
    "    $o_t = \\sigma(W_o x_t + U_o h_{t-1})$\n",
    "    \n",
    "2. Candidate cell layer $\\tilde{C}_t$\n",
    "\n",
    "    $\\tilde{C}_t = \\tanh(W_C x_t + U_C h_{t-1})$\n",
    "    \n",
    "2. Cell layer $C_t$\n",
    "\n",
    "    $c_t = f_t \\circ C_{t-1} + i_t \\circ \\tilde{C}_t$\n",
    "    \n",
    "3. Hidden layer $h_t$\n",
    "\n",
    "    $h_t = o_t \\circ \\tanh(c_t)$\n",
    "    \n",
    "4. LSTM should return a tuple of (outputs, state), where\n",
    "\n",
    "    $outputs = (h_1, \\cdots, h_T)$\n",
    "    \n",
    "    $state = (c_T, h_T)$"
   ]
  },
  {
   "cell_type": "code",
   "execution_count": 12,
   "metadata": {
    "collapsed": true
   },
   "outputs": [],
   "source": [
    "lr = 0.001\n",
    "batch_size = 128\n",
    "\n",
    "n_input = 28\n",
    "n_steps = 28\n",
    "n_hidden = 128\n",
    "n_classes = 10"
   ]
  },
  {
   "cell_type": "code",
   "execution_count": 13,
   "metadata": {
    "collapsed": true
   },
   "outputs": [],
   "source": [
    "x = tf.placeholder(tf.float32, shape=[None, n_steps, n_input], name='input')\n",
    "y = tf.placeholder(tf.float32, shape=[None, n_classes], name='output')"
   ]
  },
  {
   "cell_type": "code",
   "execution_count": 14,
   "metadata": {
    "collapsed": true
   },
   "outputs": [],
   "source": [
    "weight = {\n",
    "    'in':  tf.Variable(tf.random_uniform([n_input, n_hidden], -1., 1.), name='w_in'),\n",
    "    'out': tf.Variable(tf.random_uniform([n_hidden, n_classes], -1., 1.), name='w_out')\n",
    "}\n",
    "b = {\n",
    "    'in':  tf.Variable(tf.constant(0,1, shape=[n_hidden]), name='b_in'),\n",
    "    'out': tf.Variable(tf.constant(0.1, shape=[n_classes]), name='b_out')\n",
    "}"
   ]
  },
  {
   "cell_type": "markdown",
   "metadata": {},
   "source": [
    "### Note\n",
    "    There are two ways to obtain the final results from LSTM. For example,\n",
    "```python\n",
    "    outputs, state = tf.nn.dynamic_rnn(lstm_cell, X, dtype=tf.float32)\n",
    "```\n",
    "    1. get h_state from 'state':\n",
    "```python\n",
    "    results = tf.matmul(state[1], weights['out']) + biases['out']\n",
    "```\n",
    "    2. get the last element of 'output':\n",
    "```python\n",
    "    outputs = tf.unstack(tf.transpose(outputs, [1,0,2])) # [time_step, batch_size, output_size]\n",
    "    results = tf.matmul(outputs[-1], weights['out']) + biases['out']\n",
    "```"
   ]
  },
  {
   "cell_type": "code",
   "execution_count": 15,
   "metadata": {
    "collapsed": true
   },
   "outputs": [],
   "source": [
    "def LSTM(X, weights, bias):\n",
    "    with tf.name_scope('Input_layer'):\n",
    "        X = tf.reshape(X, [-1, n_input])\n",
    "        X_in = tf.matmul(X, weight['in']) + b['in']\n",
    "        X_in = tf.reshape(X_in, [-1, n_steps, n_hidden])\n",
    "        \n",
    "        print('X.shape:', X.get_shape())\n",
    "        print('X_in.shape:', X_in.get_shape())\n",
    "        \n",
    "    with tf.name_scope('LSTM_cell'):\n",
    "        lstm_cell = tf.contrib.rnn.BasicLSTMCell(num_units=n_hidden)\n",
    "#         init_state = lstm_cell.zero_state(batch_size, dtype=tf.float32)\n",
    "        outputs, state = tf.nn.dynamic_rnn(lstm_cell, X_in, dtype=tf.float32)\n",
    "#         outputs, state = tf.nn.dynamic_rnn(lstm_cell, X_in, dtype=tf.float32, initial_state=init_state)\n",
    "        \n",
    "        print('outputs.shape:', outputs.get_shape())\n",
    "        print('states[0].shape:', state[0].get_shape())\n",
    "        print('states[1].shape:', state[1].get_shape())\n",
    "\n",
    "    with tf.name_scope('Output_layer'):\n",
    "        results = tf.matmul(state[1], weight['out']) + b['out']\n",
    "        \n",
    "        print('results.shape:', results.get_shape())\n",
    "    \n",
    "    return results"
   ]
  },
  {
   "cell_type": "code",
   "execution_count": 16,
   "metadata": {},
   "outputs": [
    {
     "name": "stdout",
     "output_type": "stream",
     "text": [
      "X.shape: (?, 28)\n",
      "X_in.shape: (?, 28, 128)\n",
      "outputs.shape: (?, 28, 128)\n",
      "states[0].shape: (?, 128)\n",
      "states[1].shape: (?, 128)\n",
      "results.shape: (?, 10)\n"
     ]
    }
   ],
   "source": [
    "pred = LSTM(x, weight, b)"
   ]
  },
  {
   "cell_type": "code",
   "execution_count": 17,
   "metadata": {
    "collapsed": true
   },
   "outputs": [],
   "source": [
    "loss = tf.reduce_mean(tf.nn.softmax_cross_entropy_with_logits(labels=y, logits=pred))\n",
    "train_op = tf.train.AdamOptimizer(lr).minimize(loss)"
   ]
  },
  {
   "cell_type": "code",
   "execution_count": 18,
   "metadata": {
    "collapsed": true
   },
   "outputs": [],
   "source": [
    "correct_pred = tf.equal(tf.argmax(pred, 1), tf.argmax(y, 1))\n",
    "accuracy = tf.reduce_mean(tf.cast(correct_pred, tf.float32))"
   ]
  },
  {
   "cell_type": "code",
   "execution_count": 19,
   "metadata": {
    "collapsed": true
   },
   "outputs": [],
   "source": [
    "import time\n",
    "init = tf.global_variables_initializer()\n",
    "epoch = 15"
   ]
  },
  {
   "cell_type": "code",
   "execution_count": 20,
   "metadata": {
    "scrolled": false
   },
   "outputs": [
    {
     "data": {
      "application/vnd.jupyter.widget-view+json": {
       "model_id": "8bb14f9aebd9495cb6d4bb29f9826a1e",
       "version_major": 2,
       "version_minor": 0
      },
      "text/plain": [
       "A Jupyter Widget"
      ]
     },
     "metadata": {},
     "output_type": "display_data"
    },
    {
     "data": {
      "application/vnd.jupyter.widget-view+json": {
       "model_id": "9019525b8cdf42169c8be9996d7d38fa",
       "version_major": 2,
       "version_minor": 0
      },
      "text/plain": [
       "A Jupyter Widget"
      ]
     },
     "metadata": {},
     "output_type": "display_data"
    },
    {
     "name": "stdout",
     "output_type": "stream",
     "text": [
      "Epoch: 1, loss:0.10730737447738647, accuracy:0.9560999870300293\n"
     ]
    },
    {
     "data": {
      "application/vnd.jupyter.widget-view+json": {
       "model_id": "4b975a61ae244754902f1aab0f7152dd",
       "version_major": 2,
       "version_minor": 0
      },
      "text/plain": [
       "A Jupyter Widget"
      ]
     },
     "metadata": {},
     "output_type": "display_data"
    },
    {
     "name": "stdout",
     "output_type": "stream",
     "text": [
      "Epoch: 2, loss:0.13617710769176483, accuracy:0.974399983882904\n"
     ]
    },
    {
     "data": {
      "application/vnd.jupyter.widget-view+json": {
       "model_id": "6f01f285b30942fa8d633a80b87033f9",
       "version_major": 2,
       "version_minor": 0
      },
      "text/plain": [
       "A Jupyter Widget"
      ]
     },
     "metadata": {},
     "output_type": "display_data"
    },
    {
     "name": "stdout",
     "output_type": "stream",
     "text": [
      "Epoch: 3, loss:0.024798735976219177, accuracy:0.9775999784469604\n"
     ]
    },
    {
     "data": {
      "application/vnd.jupyter.widget-view+json": {
       "model_id": "9afad5f68e564a4fb563d6c689b94651",
       "version_major": 2,
       "version_minor": 0
      },
      "text/plain": [
       "A Jupyter Widget"
      ]
     },
     "metadata": {},
     "output_type": "display_data"
    },
    {
     "name": "stdout",
     "output_type": "stream",
     "text": [
      "Epoch: 4, loss:0.04459838941693306, accuracy:0.9782999753952026\n"
     ]
    },
    {
     "data": {
      "application/vnd.jupyter.widget-view+json": {
       "model_id": "53dd8c1033fa4ccf8a227a9724291f90",
       "version_major": 2,
       "version_minor": 0
      },
      "text/plain": [
       "A Jupyter Widget"
      ]
     },
     "metadata": {},
     "output_type": "display_data"
    },
    {
     "name": "stdout",
     "output_type": "stream",
     "text": [
      "Epoch: 5, loss:0.019341468811035156, accuracy:0.9818999767303467\n"
     ]
    },
    {
     "data": {
      "application/vnd.jupyter.widget-view+json": {
       "model_id": "7b8b4adcfc04473fa8f375d3f89f162c",
       "version_major": 2,
       "version_minor": 0
      },
      "text/plain": [
       "A Jupyter Widget"
      ]
     },
     "metadata": {},
     "output_type": "display_data"
    },
    {
     "name": "stdout",
     "output_type": "stream",
     "text": [
      "Epoch: 6, loss:0.00880218856036663, accuracy:0.9825000166893005\n"
     ]
    },
    {
     "data": {
      "application/vnd.jupyter.widget-view+json": {
       "model_id": "072e485484f146c1ae55beaa53bfa5f6",
       "version_major": 2,
       "version_minor": 0
      },
      "text/plain": [
       "A Jupyter Widget"
      ]
     },
     "metadata": {},
     "output_type": "display_data"
    },
    {
     "name": "stdout",
     "output_type": "stream",
     "text": [
      "Epoch: 7, loss:0.02010899782180786, accuracy:0.9793999791145325\n"
     ]
    },
    {
     "data": {
      "application/vnd.jupyter.widget-view+json": {
       "model_id": "68133765745f4d38946a5bf4d5a2bd54",
       "version_major": 2,
       "version_minor": 0
      },
      "text/plain": [
       "A Jupyter Widget"
      ]
     },
     "metadata": {},
     "output_type": "display_data"
    },
    {
     "name": "stdout",
     "output_type": "stream",
     "text": [
      "Epoch: 8, loss:0.009958494454622269, accuracy:0.9824000000953674\n"
     ]
    },
    {
     "data": {
      "application/vnd.jupyter.widget-view+json": {
       "model_id": "3ef270636eda4d459a5f44a49ef1b561",
       "version_major": 2,
       "version_minor": 0
      },
      "text/plain": [
       "A Jupyter Widget"
      ]
     },
     "metadata": {},
     "output_type": "display_data"
    },
    {
     "name": "stdout",
     "output_type": "stream",
     "text": [
      "Epoch: 9, loss:0.0321212038397789, accuracy:0.9828000068664551\n"
     ]
    },
    {
     "data": {
      "application/vnd.jupyter.widget-view+json": {
       "model_id": "90eecfc13de74610b1b7c7ed2c498d19",
       "version_major": 2,
       "version_minor": 0
      },
      "text/plain": [
       "A Jupyter Widget"
      ]
     },
     "metadata": {},
     "output_type": "display_data"
    },
    {
     "name": "stdout",
     "output_type": "stream",
     "text": [
      "Epoch:10, loss:0.010580174624919891, accuracy:0.9854000210762024\n"
     ]
    },
    {
     "data": {
      "application/vnd.jupyter.widget-view+json": {
       "model_id": "389e962d905e44c4a20b42581637a19d",
       "version_major": 2,
       "version_minor": 0
      },
      "text/plain": [
       "A Jupyter Widget"
      ]
     },
     "metadata": {},
     "output_type": "display_data"
    },
    {
     "name": "stdout",
     "output_type": "stream",
     "text": [
      "Epoch:11, loss:0.002976142568513751, accuracy:0.98580002784729\n"
     ]
    },
    {
     "data": {
      "application/vnd.jupyter.widget-view+json": {
       "model_id": "4d8d416c2d0d442c97fc4fa999e4e01c",
       "version_major": 2,
       "version_minor": 0
      },
      "text/plain": [
       "A Jupyter Widget"
      ]
     },
     "metadata": {},
     "output_type": "display_data"
    },
    {
     "name": "stdout",
     "output_type": "stream",
     "text": [
      "Epoch:12, loss:0.004861851688474417, accuracy:0.9814000129699707\n"
     ]
    },
    {
     "data": {
      "application/vnd.jupyter.widget-view+json": {
       "model_id": "6a78611def6a4611be80d0b48ddc5624",
       "version_major": 2,
       "version_minor": 0
      },
      "text/plain": [
       "A Jupyter Widget"
      ]
     },
     "metadata": {},
     "output_type": "display_data"
    },
    {
     "name": "stdout",
     "output_type": "stream",
     "text": [
      "Epoch:13, loss:0.0015149330720305443, accuracy:0.9851999878883362\n"
     ]
    },
    {
     "data": {
      "application/vnd.jupyter.widget-view+json": {
       "model_id": "f04697d43e644244a0c562678e571f9c",
       "version_major": 2,
       "version_minor": 0
      },
      "text/plain": [
       "A Jupyter Widget"
      ]
     },
     "metadata": {},
     "output_type": "display_data"
    },
    {
     "name": "stdout",
     "output_type": "stream",
     "text": [
      "Epoch:14, loss:0.0033896113745868206, accuracy:0.9819999933242798\n"
     ]
    },
    {
     "data": {
      "application/vnd.jupyter.widget-view+json": {
       "model_id": "4d5f1c71e01240f6b4904d9e7341416d",
       "version_major": 2,
       "version_minor": 0
      },
      "text/plain": [
       "A Jupyter Widget"
      ]
     },
     "metadata": {},
     "output_type": "display_data"
    },
    {
     "name": "stdout",
     "output_type": "stream",
     "text": [
      "Epoch:15, loss:0.0023181408178061247, accuracy:0.984499990940094\n",
      "\n",
      "******************************\n",
      "Training finish.\n",
      "Cost time: 931 s\n",
      "Accuracy: 0.9845\n"
     ]
    }
   ],
   "source": [
    "start = time.time()\n",
    "lstm_loss_list = []\n",
    "lstm_accuracy_list = []\n",
    "\n",
    "with tf.Session() as sess:\n",
    "    writer = tf.summary.FileWriter('logs/lstm_logs/', sess.graph)\n",
    "    sess.run(init)\n",
    "    \n",
    "    batch = int(mnist.train.num_examples / batch_size)\n",
    "    test_x = mnist.test.images.reshape([-1, n_steps, n_input])\n",
    "    test_y = mnist.test.labels\n",
    "    \n",
    "    for epoch in tqdm_notebook(range(epoch)):\n",
    "        for i in tqdm_notebook(range(batch)):\n",
    "            batch_x, batch_y = mnist.train.next_batch(batch_size)\n",
    "            batch_x = batch_x.reshape([batch_size, n_steps, n_input])\n",
    "            sess.run(train_op, feed_dict={x: batch_x, y: batch_y})\n",
    "        _loss = sess.run(loss, feed_dict={x: batch_x, y: batch_y})\n",
    "        _accuracy  = sess.run(accuracy, feed_dict={x: test_x, y: test_y})\n",
    "        lstm_loss_list.append(_loss)\n",
    "        lstm_accuracy_list.append(_accuracy)\n",
    "        print('Epoch:{:2d}, loss:{}, accuracy:{}'.format(epoch+1, _loss, _accuracy))\n",
    "    \n",
    "    end = time.time()\n",
    "    print('*'*30)\n",
    "    print('Training finish.')\n",
    "    print('Cost time:', int(end-start), 's')\n",
    "    print('Accuracy:', _accuracy)"
   ]
  },
  {
   "cell_type": "code",
   "execution_count": 21,
   "metadata": {},
   "outputs": [
    {
     "data": {
      "text/plain": [
       "<matplotlib.text.Text at 0x1a21c76128>"
      ]
     },
     "execution_count": 21,
     "metadata": {},
     "output_type": "execute_result"
    },
    {
     "data": {
      "image/png": "[encoded data removed]",
      "text/plain": [
       "<matplotlib.figure.Figure at 0x1a1c23c9b0>"
      ]
     },
     "metadata": {},
     "output_type": "display_data"
    }
   ],
   "source": [
    "fig = plt.figure(figsize=(12,5))\n",
    "plt.subplot(1, 2, 1)\n",
    "plt.plot(lstm_loss_list)\n",
    "plt.xlabel('Epoch')\n",
    "plt.title('LSTM Loss')\n",
    "\n",
    "plt.subplot(1, 2, 2)\n",
    "plt.plot(lstm_accuracy_list)\n",
    "plt.xlabel('Epoch')\n",
    "plt.title('LSTM Accuracy')"
   ]
  },
  {
   "cell_type": "markdown",
   "metadata": {
    "collapsed": true
   },
   "source": [
    "# GRU: tf.contrib.rnn.GRUCell"
   ]
  },
  {
   "cell_type": "markdown",
   "metadata": {},
   "source": [
    "![Alt text](gru.png)"
   ]
  },
  {
   "cell_type": "markdown",
   "metadata": {},
   "source": [
    "1. Reset gate $r_t$, update gate $z_t$\n",
    "\n",
    "    $r_t = \\sigma(W_r x_t + U_r h_{t-1})$\n",
    "    \n",
    "    $z_t = \\sigma(W_z x_t + U_z h_{t-1})$\n",
    "    \n",
    "2. Candidate hidden state $\\tilde{h}_t$\n",
    "\n",
    "    $\\tilde{h}_t = \\tanh(W x_t + U(r_t \\odot h_{t-1}))$\n",
    "    \n",
    "3. Hidden state $h_t$\n",
    "\n",
    "    $h_t = (1 - z_t) h_{t-1} + z_t \\tilde{h}_t$\n",
    "\n",
    "4. GRU should output a tuple of (outputs, state), where\n",
    "\n",
    "    $outputs = (h_1, \\cdots, h_T)$\n",
    "    \n",
    "    $state = h_T$ "
   ]
  },
  {
   "cell_type": "code",
   "execution_count": 22,
   "metadata": {
    "collapsed": true
   },
   "outputs": [],
   "source": [
    "lr = 0.001\n",
    "batch_size = 128\n",
    "\n",
    "n_input = 28\n",
    "n_steps = 28\n",
    "n_hidden = 128\n",
    "n_classes = 10"
   ]
  },
  {
   "cell_type": "code",
   "execution_count": 23,
   "metadata": {
    "collapsed": true
   },
   "outputs": [],
   "source": [
    "x = tf.placeholder(tf.float32, shape=[None, n_steps, n_input], name='input')\n",
    "y = tf.placeholder(tf.float32, shape=[None, n_classes], name='output')"
   ]
  },
  {
   "cell_type": "code",
   "execution_count": 24,
   "metadata": {
    "collapsed": true
   },
   "outputs": [],
   "source": [
    "weight = {\n",
    "    'in':  tf.Variable(tf.random_uniform([n_input, n_hidden], -1., 1.), name='w_in'),\n",
    "    'out': tf.Variable(tf.random_uniform([n_hidden, n_classes], -1., 1.), name='w_out')\n",
    "}\n",
    "b = {\n",
    "    'in':  tf.Variable(tf.constant(0,1, shape=[n_hidden]), name='b_in'),\n",
    "    'out': tf.Variable(tf.constant(0.1, shape=[n_classes]), name='b_out')\n",
    "}"
   ]
  },
  {
   "cell_type": "code",
   "execution_count": 25,
   "metadata": {
    "collapsed": true
   },
   "outputs": [],
   "source": [
    "def GRU(X, weights, bias):\n",
    "    with tf.name_scope('Input_layer'):\n",
    "        X = tf.reshape(X, [-1, n_input])\n",
    "        X_in = tf.matmul(X, weight['in']) + b['in']\n",
    "        X_in = tf.reshape(X_in, [-1, n_steps, n_hidden])\n",
    "        \n",
    "        print('X.shape:', X.get_shape())\n",
    "        print('X_in.shape:', X_in.get_shape())\n",
    "        \n",
    "    with tf.name_scope('GRU_cell'):\n",
    "        gru_cell = tf.contrib.rnn.GRUCell(num_units=n_hidden)\n",
    "        outputs, final_state = tf.nn.dynamic_rnn(gru_cell, X_in, dtype=tf.float32)\n",
    "        \n",
    "        print('outputs.shape:', outputs.get_shape())\n",
    "        print('states.shape:', final_state.get_shape())\n",
    "\n",
    "    with tf.name_scope('Out_layer'):\n",
    "        results = tf.matmul(final_state, weight['out']) + b['out']\n",
    "        \n",
    "        print('results.shape:', results.get_shape())\n",
    "    \n",
    "    return results"
   ]
  },
  {
   "cell_type": "code",
   "execution_count": 26,
   "metadata": {},
   "outputs": [
    {
     "name": "stdout",
     "output_type": "stream",
     "text": [
      "X.shape: (?, 28)\n",
      "X_in.shape: (?, 28, 128)\n",
      "outputs.shape: (?, 28, 128)\n",
      "states.shape: (?, 128)\n",
      "results.shape: (?, 10)\n"
     ]
    }
   ],
   "source": [
    "pred = GRU(x, weight, b)"
   ]
  },
  {
   "cell_type": "code",
   "execution_count": 27,
   "metadata": {
    "collapsed": true
   },
   "outputs": [],
   "source": [
    "loss = tf.reduce_mean(tf.nn.softmax_cross_entropy_with_logits(labels=y, logits=pred))\n",
    "train_op = tf.train.AdamOptimizer(lr).minimize(loss)"
   ]
  },
  {
   "cell_type": "code",
   "execution_count": 28,
   "metadata": {
    "collapsed": true
   },
   "outputs": [],
   "source": [
    "correct_pred = tf.equal(tf.argmax(pred, 1), tf.argmax(y, 1))\n",
    "accuracy = tf.reduce_mean(tf.cast(correct_pred, tf.float32))"
   ]
  },
  {
   "cell_type": "code",
   "execution_count": 29,
   "metadata": {
    "collapsed": true
   },
   "outputs": [],
   "source": [
    "import time\n",
    "init = tf.global_variables_initializer()\n",
    "epoch = 15"
   ]
  },
  {
   "cell_type": "code",
   "execution_count": 30,
   "metadata": {
    "scrolled": false
   },
   "outputs": [
    {
     "data": {
      "application/vnd.jupyter.widget-view+json": {
       "model_id": "951324c2704d4d97a70a2b718340d1e8",
       "version_major": 2,
       "version_minor": 0
      },
      "text/plain": [
       "A Jupyter Widget"
      ]
     },
     "metadata": {},
     "output_type": "display_data"
    },
    {
     "data": {
      "application/vnd.jupyter.widget-view+json": {
       "model_id": "1977746456ab4332b208212f8d61da2e",
       "version_major": 2,
       "version_minor": 0
      },
      "text/plain": [
       "A Jupyter Widget"
      ]
     },
     "metadata": {},
     "output_type": "display_data"
    },
    {
     "name": "stdout",
     "output_type": "stream",
     "text": [
      "Epoch: 1, loss:0.13248351216316223, accuracy:0.9556000232696533\n"
     ]
    },
    {
     "data": {
      "application/vnd.jupyter.widget-view+json": {
       "model_id": "bd281fa14c44420ca211f9330fc19c08",
       "version_major": 2,
       "version_minor": 0
      },
      "text/plain": [
       "A Jupyter Widget"
      ]
     },
     "metadata": {},
     "output_type": "display_data"
    },
    {
     "name": "stdout",
     "output_type": "stream",
     "text": [
      "Epoch: 2, loss:0.061199694871902466, accuracy:0.9717000126838684\n"
     ]
    },
    {
     "data": {
      "application/vnd.jupyter.widget-view+json": {
       "model_id": "0777aa65dcac4fecb1047a5f634f8e16",
       "version_major": 2,
       "version_minor": 0
      },
      "text/plain": [
       "A Jupyter Widget"
      ]
     },
     "metadata": {},
     "output_type": "display_data"
    },
    {
     "name": "stdout",
     "output_type": "stream",
     "text": [
      "Epoch: 3, loss:0.04607615992426872, accuracy:0.9710000157356262\n"
     ]
    },
    {
     "data": {
      "application/vnd.jupyter.widget-view+json": {
       "model_id": "ae662dfc8d1d46fa8d143e42c2195e89",
       "version_major": 2,
       "version_minor": 0
      },
      "text/plain": [
       "A Jupyter Widget"
      ]
     },
     "metadata": {},
     "output_type": "display_data"
    },
    {
     "name": "stdout",
     "output_type": "stream",
     "text": [
      "Epoch: 4, loss:0.03373229131102562, accuracy:0.9782000184059143\n"
     ]
    },
    {
     "data": {
      "application/vnd.jupyter.widget-view+json": {
       "model_id": "9e36c6aea9e9403eafd750b9a982d1f2",
       "version_major": 2,
       "version_minor": 0
      },
      "text/plain": [
       "A Jupyter Widget"
      ]
     },
     "metadata": {},
     "output_type": "display_data"
    },
    {
     "name": "stdout",
     "output_type": "stream",
     "text": [
      "Epoch: 5, loss:0.019247759133577347, accuracy:0.9828000068664551\n"
     ]
    },
    {
     "data": {
      "application/vnd.jupyter.widget-view+json": {
       "model_id": "b403f19d957444158cb4787e05b2b3fe",
       "version_major": 2,
       "version_minor": 0
      },
      "text/plain": [
       "A Jupyter Widget"
      ]
     },
     "metadata": {},
     "output_type": "display_data"
    },
    {
     "name": "stdout",
     "output_type": "stream",
     "text": [
      "Epoch: 6, loss:0.029689744114875793, accuracy:0.9846000075340271\n"
     ]
    },
    {
     "data": {
      "application/vnd.jupyter.widget-view+json": {
       "model_id": "5807efbf51924e0fa79df3af3adfe1aa",
       "version_major": 2,
       "version_minor": 0
      },
      "text/plain": [
       "A Jupyter Widget"
      ]
     },
     "metadata": {},
     "output_type": "display_data"
    },
    {
     "name": "stdout",
     "output_type": "stream",
     "text": [
      "Epoch: 7, loss:0.018338458612561226, accuracy:0.9843999743461609\n"
     ]
    },
    {
     "data": {
      "application/vnd.jupyter.widget-view+json": {
       "model_id": "52e51f108100459385f90dba82d96676",
       "version_major": 2,
       "version_minor": 0
      },
      "text/plain": [
       "A Jupyter Widget"
      ]
     },
     "metadata": {},
     "output_type": "display_data"
    },
    {
     "name": "stdout",
     "output_type": "stream",
     "text": [
      "Epoch: 8, loss:0.020747710019350052, accuracy:0.9851999878883362\n"
     ]
    },
    {
     "data": {
      "application/vnd.jupyter.widget-view+json": {
       "model_id": "8613302fb3154b6c9023a7338d98ad9e",
       "version_major": 2,
       "version_minor": 0
      },
      "text/plain": [
       "A Jupyter Widget"
      ]
     },
     "metadata": {},
     "output_type": "display_data"
    },
    {
     "name": "stdout",
     "output_type": "stream",
     "text": [
      "Epoch: 9, loss:0.005044219084084034, accuracy:0.9828000068664551\n"
     ]
    },
    {
     "data": {
      "application/vnd.jupyter.widget-view+json": {
       "model_id": "9084ed69daab4134a698e12b6a67ed4d",
       "version_major": 2,
       "version_minor": 0
      },
      "text/plain": [
       "A Jupyter Widget"
      ]
     },
     "metadata": {},
     "output_type": "display_data"
    },
    {
     "name": "stdout",
     "output_type": "stream",
     "text": [
      "Epoch:10, loss:0.002619432285428047, accuracy:0.9842000007629395\n"
     ]
    },
    {
     "data": {
      "application/vnd.jupyter.widget-view+json": {
       "model_id": "6de4774afde649b4b3f2f1e7cf9dcc45",
       "version_major": 2,
       "version_minor": 0
      },
      "text/plain": [
       "A Jupyter Widget"
      ]
     },
     "metadata": {},
     "output_type": "display_data"
    },
    {
     "name": "stdout",
     "output_type": "stream",
     "text": [
      "Epoch:11, loss:0.0038928501307964325, accuracy:0.9819999933242798\n"
     ]
    },
    {
     "data": {
      "application/vnd.jupyter.widget-view+json": {
       "model_id": "22fed74eb8f240808c3f2536e1d67b6a",
       "version_major": 2,
       "version_minor": 0
      },
      "text/plain": [
       "A Jupyter Widget"
      ]
     },
     "metadata": {},
     "output_type": "display_data"
    },
    {
     "name": "stdout",
     "output_type": "stream",
     "text": [
      "Epoch:12, loss:0.00413090642541647, accuracy:0.98580002784729\n"
     ]
    },
    {
     "data": {
      "application/vnd.jupyter.widget-view+json": {
       "model_id": "79ad188811864d3a9d3bc822676b76c6",
       "version_major": 2,
       "version_minor": 0
      },
      "text/plain": [
       "A Jupyter Widget"
      ]
     },
     "metadata": {},
     "output_type": "display_data"
    },
    {
     "name": "stdout",
     "output_type": "stream",
     "text": [
      "Epoch:13, loss:0.006109117995947599, accuracy:0.9854999780654907\n"
     ]
    },
    {
     "data": {
      "application/vnd.jupyter.widget-view+json": {
       "model_id": "93ae0737eabd47b998a0f59d1b69646d",
       "version_major": 2,
       "version_minor": 0
      },
      "text/plain": [
       "A Jupyter Widget"
      ]
     },
     "metadata": {},
     "output_type": "display_data"
    },
    {
     "name": "stdout",
     "output_type": "stream",
     "text": [
      "Epoch:14, loss:0.005896678660064936, accuracy:0.9857000112533569\n"
     ]
    },
    {
     "data": {
      "application/vnd.jupyter.widget-view+json": {
       "model_id": "4df3e43735064ce38f867836f13b271a",
       "version_major": 2,
       "version_minor": 0
      },
      "text/plain": [
       "A Jupyter Widget"
      ]
     },
     "metadata": {},
     "output_type": "display_data"
    },
    {
     "name": "stdout",
     "output_type": "stream",
     "text": [
      "Epoch:15, loss:0.0015434199012815952, accuracy:0.9847999811172485\n",
      "\n",
      "******************************\n",
      "Training finish.\n",
      "Cost time: 786 s\n",
      "Accuracy: 0.9848\n"
     ]
    }
   ],
   "source": [
    "start = time.time()\n",
    "gru_loss_list = []\n",
    "gru_accuracy_list = []\n",
    "\n",
    "with tf.Session() as sess:\n",
    "    writer = tf.summary.FileWriter('logs/gru_logs/', sess.graph)\n",
    "    sess.run(init)\n",
    "    \n",
    "    batch = int(mnist.train.num_examples / batch_size)\n",
    "    test_x = mnist.test.images.reshape([-1, n_steps, n_input])\n",
    "    test_y = mnist.test.labels\n",
    "    \n",
    "    for epoch in tqdm_notebook(range(epoch)):\n",
    "        for i in tqdm_notebook(range(batch)):\n",
    "            batch_x, batch_y = mnist.train.next_batch(batch_size)\n",
    "            batch_x = batch_x.reshape([batch_size, n_steps, n_input])\n",
    "            sess.run(train_op, feed_dict={x: batch_x, y: batch_y})\n",
    "        _loss = sess.run(loss, feed_dict={x: batch_x, y: batch_y})\n",
    "        _accuracy  = sess.run(accuracy, feed_dict={x: test_x, y: test_y})\n",
    "        gru_loss_list.append(_loss)\n",
    "        gru_accuracy_list.append(_accuracy)\n",
    "        print('Epoch:{:2d}, loss:{}, accuracy:{}'.format(epoch+1, _loss, _accuracy))\n",
    "    \n",
    "    end = time.time()\n",
    "    print('*'*30)\n",
    "    print('Training finish.')\n",
    "    print('Cost time:', int(end-start), 's')\n",
    "    print('Accuracy:', _accuracy)"
   ]
  },
  {
   "cell_type": "code",
   "execution_count": 31,
   "metadata": {},
   "outputs": [
    {
     "data": {
      "text/plain": [
       "<matplotlib.text.Text at 0x1a232c1f60>"
      ]
     },
     "execution_count": 31,
     "metadata": {},
     "output_type": "execute_result"
    },
    {
     "data": {
      "image/png": "[encoded data removed]",
      "text/plain": [
       "<matplotlib.figure.Figure at 0x1a1ca9f780>"
      ]
     },
     "metadata": {},
     "output_type": "display_data"
    }
   ],
   "source": [
    "fig = plt.figure(figsize=(12,5))\n",
    "\n",
    "plt.subplot(1, 2, 1)\n",
    "plt.plot(gru_loss_list)\n",
    "plt.xlabel('Epoch')\n",
    "plt.title('GRU Loss')\n",
    "\n",
    "plt.subplot(1, 2, 2)\n",
    "plt.plot(gru_accuracy_list)\n",
    "plt.xlabel('Epoch')\n",
    "plt.title('GRU Accuracy')"
   ]
  },
  {
   "cell_type": "markdown",
   "metadata": {},
   "source": [
    "# MultiRNNCell"
   ]
  },
  {
   "cell_type": "code",
   "execution_count": 32,
   "metadata": {
    "collapsed": true
   },
   "outputs": [],
   "source": [
    "lr = 0.001\n",
    "batch_size = 128\n",
    "dropout_rate = 0.2\n",
    "\n",
    "n_input = 28\n",
    "n_steps = 28\n",
    "n_layers = 3\n",
    "n_hidden = 128\n",
    "n_classes = 10"
   ]
  },
  {
   "cell_type": "code",
   "execution_count": 33,
   "metadata": {},
   "outputs": [],
   "source": [
    "x = tf.placeholder(tf.float32, shape=[None, n_steps, n_input], name='input')\n",
    "y = tf.placeholder(tf.float32, shape=[None, n_classes], name='output')\n",
    "dropout = tf.placeholder(tf.float32)"
   ]
  },
  {
   "cell_type": "code",
   "execution_count": 34,
   "metadata": {},
   "outputs": [],
   "source": [
    "weight = {\n",
    "    'in':  tf.Variable(tf.random_uniform([n_input, n_hidden], -1., 1.), name='w_in'),\n",
    "    'out': tf.Variable(tf.random_uniform([n_hidden, n_classes], -1., 1.), name='w_out')\n",
    "}\n",
    "b = {\n",
    "    'in':  tf.Variable(tf.constant(0,1, shape=[n_hidden]), name='b_in'),\n",
    "    'out': tf.Variable(tf.constant(0.1, shape=[n_classes]), name='b_out')\n",
    "}"
   ]
  },
  {
   "cell_type": "code",
   "execution_count": 35,
   "metadata": {
    "collapsed": true
   },
   "outputs": [],
   "source": [
    "def MultiRNN(X, weights, bias):\n",
    "    with tf.name_scope('Input_layer'):\n",
    "        X = tf.reshape(X, [-1, n_input])\n",
    "        X_in = tf.matmul(X, weight['in']) + b['in']\n",
    "        X_in = tf.reshape(X_in, [-1, n_steps, n_hidden])\n",
    "        \n",
    "        print('X.shape:', X.get_shape())\n",
    "        print('X_in.shape:', X_in.get_shape())\n",
    "        \n",
    "    with tf.name_scope('MultiRNN_cell'):\n",
    "        cells = []\n",
    "        for _ in range(n_layers):\n",
    "            cell = tf.contrib.rnn.GRUCell(num_units=n_hidden)\n",
    "            cell = tf.contrib.rnn.DropoutWrapper(cell=cell, input_keep_prob=1-dropout_rate)\n",
    "            cells.append(cell)\n",
    "        multiRNN = tf.contrib.rnn.MultiRNNCell(cells=cells)\n",
    "        outputs, final_state = tf.nn.dynamic_rnn(multiRNN, X_in, dtype=tf.float32)\n",
    "        \n",
    "        print('outputs.shape:', outputs.get_shape())\n",
    "        print('len(states):', len(final_state))\n",
    "        print('states.shape:', final_state[0].get_shape())\n",
    "        print('states.shape:', final_state[1].get_shape())\n",
    "        print('states.shape:', final_state[2].get_shape())\n",
    "\n",
    "    with tf.name_scope('Out_layer'):\n",
    "        outputs = tf.unstack(tf.transpose(outputs, [1,0,2]))\n",
    "        results = tf.matmul(outputs[-1], weight['out']) + b['out']\n",
    "        \n",
    "        print('results.shape:', results.get_shape())\n",
    "    \n",
    "    return results"
   ]
  },
  {
   "cell_type": "code",
   "execution_count": 36,
   "metadata": {},
   "outputs": [
    {
     "name": "stdout",
     "output_type": "stream",
     "text": [
      "X.shape: (?, 28)\n",
      "X_in.shape: (?, 28, 128)\n",
      "outputs.shape: (?, 28, 128)\n",
      "len(states): 3\n",
      "states.shape: (?, 128)\n",
      "states.shape: (?, 128)\n",
      "states.shape: (?, 128)\n",
      "results.shape: (?, 10)\n"
     ]
    }
   ],
   "source": [
    "pred = MultiRNN(x, weight, b)"
   ]
  },
  {
   "cell_type": "code",
   "execution_count": 37,
   "metadata": {
    "collapsed": true
   },
   "outputs": [],
   "source": [
    "loss = tf.reduce_mean(tf.nn.softmax_cross_entropy_with_logits(labels=y, logits=pred))\n",
    "train_op = tf.train.AdamOptimizer(lr).minimize(loss)"
   ]
  },
  {
   "cell_type": "code",
   "execution_count": 38,
   "metadata": {
    "collapsed": true
   },
   "outputs": [],
   "source": [
    "correct_pred = tf.equal(tf.argmax(pred, 1), tf.argmax(y, 1))\n",
    "accuracy = tf.reduce_mean(tf.cast(correct_pred, tf.float32))"
   ]
  },
  {
   "cell_type": "code",
   "execution_count": 39,
   "metadata": {
    "collapsed": true
   },
   "outputs": [],
   "source": [
    "init = tf.global_variables_initializer()\n",
    "epoch = 15"
   ]
  },
  {
   "cell_type": "code",
   "execution_count": 40,
   "metadata": {
    "scrolled": false
   },
   "outputs": [
    {
     "data": {
      "application/vnd.jupyter.widget-view+json": {
       "model_id": "13bed32c3ebe4ede96e60ccefa1fa5d9",
       "version_major": 2,
       "version_minor": 0
      },
      "text/plain": [
       "A Jupyter Widget"
      ]
     },
     "metadata": {},
     "output_type": "display_data"
    },
    {
     "data": {
      "application/vnd.jupyter.widget-view+json": {
       "model_id": "3eb29f8aef4d4ac09e8f960168a8d86d",
       "version_major": 2,
       "version_minor": 0
      },
      "text/plain": [
       "A Jupyter Widget"
      ]
     },
     "metadata": {},
     "output_type": "display_data"
    },
    {
     "name": "stdout",
     "output_type": "stream",
     "text": [
      "Epoch: 1, loss:0.11720730364322662, accuracy:0.9692999720573425\n"
     ]
    },
    {
     "data": {
      "application/vnd.jupyter.widget-view+json": {
       "model_id": "d1030f6abf7b4863809b6cb3f13ce6d7",
       "version_major": 2,
       "version_minor": 0
      },
      "text/plain": [
       "A Jupyter Widget"
      ]
     },
     "metadata": {},
     "output_type": "display_data"
    },
    {
     "name": "stdout",
     "output_type": "stream",
     "text": [
      "Epoch: 2, loss:0.012811511754989624, accuracy:0.9803000092506409\n"
     ]
    },
    {
     "data": {
      "application/vnd.jupyter.widget-view+json": {
       "model_id": "e3560dd032f249f985afd32deea455bc",
       "version_major": 2,
       "version_minor": 0
      },
      "text/plain": [
       "A Jupyter Widget"
      ]
     },
     "metadata": {},
     "output_type": "display_data"
    },
    {
     "name": "stdout",
     "output_type": "stream",
     "text": [
      "Epoch: 3, loss:0.016600891947746277, accuracy:0.9825999736785889\n"
     ]
    },
    {
     "data": {
      "application/vnd.jupyter.widget-view+json": {
       "model_id": "7650eb76beff403fb9227a1662547338",
       "version_major": 2,
       "version_minor": 0
      },
      "text/plain": [
       "A Jupyter Widget"
      ]
     },
     "metadata": {},
     "output_type": "display_data"
    },
    {
     "name": "stdout",
     "output_type": "stream",
     "text": [
      "Epoch: 4, loss:0.019625777378678322, accuracy:0.987500011920929\n"
     ]
    },
    {
     "data": {
      "application/vnd.jupyter.widget-view+json": {
       "model_id": "a1f1957dbca6446a9da7625756649641",
       "version_major": 2,
       "version_minor": 0
      },
      "text/plain": [
       "A Jupyter Widget"
      ]
     },
     "metadata": {},
     "output_type": "display_data"
    },
    {
     "name": "stdout",
     "output_type": "stream",
     "text": [
      "Epoch: 5, loss:0.02107449807226658, accuracy:0.9850999712944031\n"
     ]
    },
    {
     "data": {
      "application/vnd.jupyter.widget-view+json": {
       "model_id": "4fbc4e750a354b50aa032a1b3a38b361",
       "version_major": 2,
       "version_minor": 0
      },
      "text/plain": [
       "A Jupyter Widget"
      ]
     },
     "metadata": {},
     "output_type": "display_data"
    },
    {
     "name": "stdout",
     "output_type": "stream",
     "text": [
      "Epoch: 6, loss:0.08801386505365372, accuracy:0.9879000186920166\n"
     ]
    },
    {
     "data": {
      "application/vnd.jupyter.widget-view+json": {
       "model_id": "414bbbb8ae53422aaaccb1fdea75489b",
       "version_major": 2,
       "version_minor": 0
      },
      "text/plain": [
       "A Jupyter Widget"
      ]
     },
     "metadata": {},
     "output_type": "display_data"
    },
    {
     "name": "stdout",
     "output_type": "stream",
     "text": [
      "Epoch: 7, loss:0.003459919709712267, accuracy:0.9890999794006348\n"
     ]
    },
    {
     "data": {
      "application/vnd.jupyter.widget-view+json": {
       "model_id": "675fa55f293c42a5b2f921534e76d008",
       "version_major": 2,
       "version_minor": 0
      },
      "text/plain": [
       "A Jupyter Widget"
      ]
     },
     "metadata": {},
     "output_type": "display_data"
    },
    {
     "name": "stdout",
     "output_type": "stream",
     "text": [
      "Epoch: 8, loss:0.004275874234735966, accuracy:0.9853000044822693\n"
     ]
    },
    {
     "data": {
      "application/vnd.jupyter.widget-view+json": {
       "model_id": "ff56a470a2ed4917908486cbdbe87f1c",
       "version_major": 2,
       "version_minor": 0
      },
      "text/plain": [
       "A Jupyter Widget"
      ]
     },
     "metadata": {},
     "output_type": "display_data"
    },
    {
     "name": "stdout",
     "output_type": "stream",
     "text": [
      "Epoch: 9, loss:0.0022346233017742634, accuracy:0.987500011920929\n"
     ]
    },
    {
     "data": {
      "application/vnd.jupyter.widget-view+json": {
       "model_id": "d265c64ca27748178ebeefa2d391b2bf",
       "version_major": 2,
       "version_minor": 0
      },
      "text/plain": [
       "A Jupyter Widget"
      ]
     },
     "metadata": {},
     "output_type": "display_data"
    },
    {
     "name": "stdout",
     "output_type": "stream",
     "text": [
      "Epoch:10, loss:0.06906682252883911, accuracy:0.9854999780654907\n"
     ]
    },
    {
     "data": {
      "application/vnd.jupyter.widget-view+json": {
       "model_id": "99c714fdbbfa40baa7d2ca4230a9edcb",
       "version_major": 2,
       "version_minor": 0
      },
      "text/plain": [
       "A Jupyter Widget"
      ]
     },
     "metadata": {},
     "output_type": "display_data"
    },
    {
     "name": "stdout",
     "output_type": "stream",
     "text": [
      "Epoch:11, loss:0.0029064700938761234, accuracy:0.9886999726295471\n"
     ]
    },
    {
     "data": {
      "application/vnd.jupyter.widget-view+json": {
       "model_id": "01ace7d4064741c6bb03443f7cd40d6b",
       "version_major": 2,
       "version_minor": 0
      },
      "text/plain": [
       "A Jupyter Widget"
      ]
     },
     "metadata": {},
     "output_type": "display_data"
    },
    {
     "name": "stdout",
     "output_type": "stream",
     "text": [
      "Epoch:12, loss:0.0003166504902765155, accuracy:0.9876000285148621\n"
     ]
    },
    {
     "data": {
      "application/vnd.jupyter.widget-view+json": {
       "model_id": "778eb143af9d46b0ae36d0679c9e8ca8",
       "version_major": 2,
       "version_minor": 0
      },
      "text/plain": [
       "A Jupyter Widget"
      ]
     },
     "metadata": {},
     "output_type": "display_data"
    },
    {
     "name": "stdout",
     "output_type": "stream",
     "text": [
      "Epoch:13, loss:0.0029441951774060726, accuracy:0.9882000088691711\n"
     ]
    },
    {
     "data": {
      "application/vnd.jupyter.widget-view+json": {
       "model_id": "0a20411d279f4f3ab9eaff0606225ac7",
       "version_major": 2,
       "version_minor": 0
      },
      "text/plain": [
       "A Jupyter Widget"
      ]
     },
     "metadata": {},
     "output_type": "display_data"
    },
    {
     "name": "stdout",
     "output_type": "stream",
     "text": [
      "Epoch:14, loss:0.003960248548537493, accuracy:0.9889000058174133\n"
     ]
    },
    {
     "data": {
      "application/vnd.jupyter.widget-view+json": {
       "model_id": "e03d4299d2ad4d7eb219fb25988cde9a",
       "version_major": 2,
       "version_minor": 0
      },
      "text/plain": [
       "A Jupyter Widget"
      ]
     },
     "metadata": {},
     "output_type": "display_data"
    },
    {
     "name": "stdout",
     "output_type": "stream",
     "text": [
      "Epoch:15, loss:0.0010786739876493812, accuracy:0.986299991607666\n",
      "\n",
      "******************************\n",
      "Training finish.\n",
      "Cost time: 1768 s\n",
      "Accuracy: 0.9863\n"
     ]
    }
   ],
   "source": [
    "start = time.time()\n",
    "multiRNN_loss_list = []\n",
    "multiRNN_accuracy_list = []\n",
    "\n",
    "with tf.Session() as sess:\n",
    "    writer = tf.summary.FileWriter('logs/multiRNN_logs/', sess.graph)\n",
    "    sess.run(init)\n",
    "    \n",
    "    batch = int(mnist.train.num_examples / batch_size)\n",
    "    test_x = mnist.test.images.reshape([-1, n_steps, n_input])\n",
    "    test_y = mnist.test.labels\n",
    "    \n",
    "    for epoch in tqdm_notebook(range(epoch)):\n",
    "        for i in tqdm_notebook(range(batch)):\n",
    "            batch_x, batch_y = mnist.train.next_batch(batch_size)\n",
    "            batch_x = batch_x.reshape([batch_size, n_steps, n_input])\n",
    "            sess.run(train_op, feed_dict={x: batch_x, y: batch_y, dropout: dropout_rate})\n",
    "        _loss = sess.run(loss, feed_dict={x: batch_x, y: batch_y, dropout: dropout_rate})\n",
    "        _accuracy  = sess.run(accuracy, feed_dict={x: test_x, y: test_y, dropout: 0})\n",
    "        multiRNN_loss_list.append(_loss)\n",
    "        multiRNN_accuracy_list.append(_accuracy)\n",
    "        print('Epoch:{:2d}, loss:{}, accuracy:{}'.format(epoch+1, _loss, _accuracy))\n",
    "    \n",
    "    end = time.time()\n",
    "    print('*'*30)\n",
    "    print('Training finish.')\n",
    "    print('Cost time:', int(end-start), 's')\n",
    "    print('Accuracy:', _accuracy)"
   ]
  },
  {
   "cell_type": "code",
   "execution_count": 41,
   "metadata": {},
   "outputs": [
    {
     "data": {
      "text/plain": [
       "<matplotlib.text.Text at 0x1a32e7aa20>"
      ]
     },
     "execution_count": 41,
     "metadata": {},
     "output_type": "execute_result"
    },
    {
     "data": {
      "image/png": "[encoded data removed]",
      "text/plain": [
       "<matplotlib.figure.Figure at 0x108a3e240>"
      ]
     },
     "metadata": {},
     "output_type": "display_data"
    }
   ],
   "source": [
    "fig = plt.figure(figsize=(12,5))\n",
    "\n",
    "plt.subplot(1, 2, 1)\n",
    "plt.plot(multiRNN_loss_list)\n",
    "plt.xlabel('Epoch')\n",
    "plt.title('MultiRNN Loss')\n",
    "\n",
    "plt.subplot(1, 2, 2)\n",
    "plt.plot(multiRNN_accuracy_list)\n",
    "plt.xlabel('Epoch')\n",
    "plt.title('MultiRNN Accuracy')"
   ]
  },
  {
   "cell_type": "markdown",
   "metadata": {},
   "source": [
    "# Results"
   ]
  },
  {
   "cell_type": "code",
   "execution_count": 45,
   "metadata": {},
   "outputs": [
    {
     "data": {
      "text/plain": [
       "<matplotlib.text.Text at 0x1a32feaa58>"
      ]
     },
     "execution_count": 45,
     "metadata": {},
     "output_type": "execute_result"
    },
    {
     "data": {
      "image/png": "[encoded data removed]",
      "text/plain": [
       "<matplotlib.figure.Figure at 0x1a32ed1ba8>"
      ]
     },
     "metadata": {},
     "output_type": "display_data"
    }
   ],
   "source": [
    "fig = plt.figure(figsize=(12,5))\n",
    "\n",
    "plt.subplot(1, 2, 1)\n",
    "plt.plot(rnn_loss_list, 'blue', label='RNN')\n",
    "plt.plot(lstm_loss_list, 'r', label='LSTM')\n",
    "plt.plot(gru_loss_list, 'g', label='GRU')\n",
    "plt.plot(multiRNN_loss_list, 'purple', label='MultiRNN')\n",
    "plt.legend()\n",
    "plt.xlabel('Epoch')\n",
    "plt.title('Loss')\n",
    "\n",
    "plt.subplot(1, 2, 2)\n",
    "plt.plot(rnn_accuracy_list, 'blue', label='RNN')\n",
    "plt.plot(lstm_accuracy_list, 'r', label='LSTM')\n",
    "plt.plot(gru_accuracy_list, 'g', label='GRU')\n",
    "plt.plot(multiRNN_accuracy_list, 'purple', label='MultiRNN')\n",
    "plt.legend()\n",
    "plt.xlabel('Epoch')\n",
    "plt.title('Accuracy')"
   ]
  },
  {
   "cell_type": "code",
   "execution_count": null,
   "metadata": {
    "collapsed": true
   },
   "outputs": [],
   "source": []
  }
 ],
 "metadata": {
  "kernelspec": {
   "display_name": "Python 3",
   "language": "python",
   "name": "python3"
  },
  "language_info": {
   "codemirror_mode": {
    "name": "ipython",
    "version": 3
   },
   "file_extension": ".py",
   "mimetype": "text/x-python",
   "name": "python",
   "nbconvert_exporter": "python",
   "pygments_lexer": "ipython3",
   "version": "3.6.2"
  }
 },
 "nbformat": 4,
 "nbformat_minor": 2
}
