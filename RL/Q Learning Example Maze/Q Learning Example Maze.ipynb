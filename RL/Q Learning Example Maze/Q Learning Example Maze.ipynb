{
 "cells": [
  {
   "cell_type": "code",
   "execution_count": 1,
   "metadata": {
    "collapsed": true
   },
   "outputs": [],
   "source": [
    "from maze_env import Maze\n",
    "from RL_brain import QLearningTable"
   ]
  },
  {
   "cell_type": "markdown",
   "metadata": {},
   "source": [
    "# Q Learning"
   ]
  },
  {
   "cell_type": "code",
   "execution_count": 2,
   "metadata": {
    "collapsed": true
   },
   "outputs": [],
   "source": [
    "def update():\n",
    "    for episode in range(100):\n",
    "        # 初始化環境\n",
    "        observation = env.reset()\n",
    "        \n",
    "        while True:\n",
    "            # 刷新環境\n",
    "            env.render()\n",
    "            \n",
    "            #  RL 根據 state 選擇出 action\n",
    "            action = RL.choose_action(str(observation))\n",
    "            \n",
    "            # 在環境中採取行為，獲得下一個 state_ (obervation_), reward, 和是否终止\n",
    "            observation_, reward, done = env.step(action)\n",
    "            \n",
    "            # RL 從 state, action, reward, state_ 中學習\n",
    "            RL.learn(str(observation), action, reward, str(observation_))\n",
    "            \n",
    "            # 將下一個 state 的值傳到下一次循環\n",
    "            observation = observation_\n",
    "            \n",
    "            # 如果掉下地獄或者上天堂，則結束回合\n",
    "            if done:\n",
    "                break\n",
    "    print('game over')\n",
    "    env.destroy()"
   ]
  },
  {
   "cell_type": "code",
   "execution_count": null,
   "metadata": {
    "collapsed": true
   },
   "outputs": [],
   "source": [
    "if __name__ == '__main__':\n",
    "    env = Maze()\n",
    "    RL = QLearningTable(actions=list(range(env.n_actions)))\n",
    "    \n",
    "    env.after(100, update)\n",
    "    env.mainloop()"
   ]
  },
  {
   "cell_type": "markdown",
   "metadata": {
    "collapsed": true
   },
   "source": [
    "# Sarsa"
   ]
  },
  {
   "cell_type": "code",
   "execution_count": 1,
   "metadata": {
    "collapsed": true
   },
   "outputs": [],
   "source": [
    "def update():\n",
    "    for episode in range(100):\n",
    "        observation = env.reset()\n",
    "        \n",
    "        # Sarsa 根據 state 選擇行動\n",
    "        action = RL.choose_action(str(observation))\n",
    "        \n",
    "        while True:\n",
    "            env.render()\n",
    "            \n",
    "            action = RL.choose_action(str(observation))\n",
    "            \n",
    "            observation_, reward, done = env.step(action)\n",
    "            \n",
    "            # 根據下一個 state (obervation_) 選取下一個 action_\n",
    "            action_ = RL.choose_action(str(observation_))\n",
    "            \n",
    "            RL.learn(str(observation), action, reward, str(observation_))\n",
    "            \n",
    "            # 將當成下一步的 state 和 action 傳到下一次循環\n",
    "            observation = observation_\n",
    "            action = action_\n",
    "            \n",
    "            if done:\n",
    "                break\n",
    "    print('game over')\n",
    "    env.destroy()"
   ]
  },
  {
   "cell_type": "code",
   "execution_count": null,
   "metadata": {
    "collapsed": true
   },
   "outputs": [],
   "source": [
    "if __name__ == '__main__':\n",
    "    env = Maze()\n",
    "    RL = SarsaTable(actions=list(range(env.n_actions)))\n",
    "    \n",
    "    env.after(100, update)\n",
    "    env.mainloop()"
   ]
  }
 ],
 "metadata": {
  "kernelspec": {
   "display_name": "Python 3",
   "language": "python",
   "name": "python3"
  },
  "language_info": {
   "codemirror_mode": {
    "name": "ipython",
    "version": 3
   },
   "file_extension": ".py",
   "mimetype": "text/x-python",
   "name": "python",
   "nbconvert_exporter": "python",
   "pygments_lexer": "ipython3",
   "version": "3.6.2"
  }
 },
 "nbformat": 4,
 "nbformat_minor": 2
}
