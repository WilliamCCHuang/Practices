{
 "cells": [
  {
   "cell_type": "markdown",
   "metadata": {},
   "source": [
    "# Genetic Algorithm Basic"
   ]
  },
  {
   "cell_type": "code",
   "execution_count": 1,
   "metadata": {
    "collapsed": true
   },
   "outputs": [],
   "source": [
    "import numpy as np\n",
    "import matplotlib.pyplot as plt"
   ]
  },
  {
   "cell_type": "code",
   "execution_count": 2,
   "metadata": {
    "collapsed": true
   },
   "outputs": [],
   "source": [
    "DNA_size = 10\n",
    "POP_size = 10\n",
    "cross_rate = 0.8\n",
    "mutation_rate = 0.03\n",
    "n_generations = 200\n",
    "x_bound = [0, 5]"
   ]
  },
  {
   "cell_type": "code",
   "execution_count": 3,
   "metadata": {
    "collapsed": true
   },
   "outputs": [],
   "source": [
    "def f(x):\n",
    "    return np.sin(10*x)*x + np.cos(2*x)*x"
   ]
  },
  {
   "cell_type": "code",
   "execution_count": 4,
   "metadata": {
    "collapsed": true
   },
   "outputs": [],
   "source": [
    "def get_fitness(pred):\n",
    "    return pred + 1e-3 - np.min(pred)"
   ]
  },
  {
   "cell_type": "code",
   "execution_count": 5,
   "metadata": {
    "collapsed": true
   },
   "outputs": [],
   "source": [
    "def translateDNA(pop):\n",
    "    return pop.dot(2**np.arange(DNA_size)[::-1]) / float(2**DNA_size - 1) * x_bound[1]"
   ]
  },
  {
   "cell_type": "code",
   "execution_count": 6,
   "metadata": {
    "collapsed": true
   },
   "outputs": [],
   "source": [
    "def select(pop, fitness):\n",
    "    index = np.random.choice(np.arange(POP_size), size=POP_size, replace=True, p=fitness/fitness.sum())\n",
    "    return pop[index]"
   ]
  },
  {
   "cell_type": "code",
   "execution_count": 7,
   "metadata": {
    "collapsed": true
   },
   "outputs": [],
   "source": [
    "def crossover(parent, pop):\n",
    "    if np.random.rand() < cross_rate:\n",
    "        i_ = np.random.randint(0, POP_size, size=1)\n",
    "        cross_points = np.random.randint(0, 2, DNA_size).astype(np.bool)\n",
    "        parent[cross_points] = pop[i_, cross_points]\n",
    "    return parent"
   ]
  },
  {
   "cell_type": "code",
   "execution_count": 8,
   "metadata": {
    "collapsed": true
   },
   "outputs": [],
   "source": [
    "def mutate(child):\n",
    "    for point in range(DNA_size):\n",
    "        if np.random.rand() < mutation_rate:\n",
    "            child[point] = 1 if child[point] == 0 else 0\n",
    "    return child"
   ]
  },
  {
   "cell_type": "code",
   "execution_count": 9,
   "metadata": {
    "collapsed": true
   },
   "outputs": [],
   "source": [
    "pop = np.random.randint(2, size=(POP_size, DNA_size))"
   ]
  },
  {
   "cell_type": "code",
   "execution_count": 10,
   "metadata": {},
   "outputs": [
    {
     "data": {
      "text/plain": [
       "array([ 4.46236559,  0.32258065,  1.4173998 ,  4.13000978,  2.55620723,\n",
       "        2.04301075,  3.66080156,  1.27565982,  2.62463343,  2.88856305])"
      ]
     },
     "execution_count": 10,
     "metadata": {},
     "output_type": "execute_result"
    }
   ],
   "source": [
    "translateDNA(pop)"
   ]
  },
  {
   "cell_type": "code",
   "execution_count": 11,
   "metadata": {
    "scrolled": false
   },
   "outputs": [
    {
     "name": "stdout",
     "output_type": "stream",
     "text": [
      "Most fitted DNA: [1 0 0 0 0 1 1 0 0 1] = 2.624633431085044\n",
      "Most fitted DNA: [1 0 0 0 0 1 1 0 1 0] = 2.6295210166177907\n",
      "Most fitted DNA: [1 0 0 0 0 1 1 1 0 0] = 2.6392961876832843\n",
      "Most fitted DNA: [1 0 0 0 0 1 1 1 0 1] = 2.644183773216031\n",
      "Most fitted DNA: [1 0 0 0 0 1 1 1 0 1] = 2.644183773216031\n",
      "Most fitted DNA: [1 0 0 0 0 1 1 1 0 1] = 2.644183773216031\n",
      "Most fitted DNA: [1 0 0 0 0 1 1 1 0 1] = 2.644183773216031\n",
      "Most fitted DNA: [1 0 0 0 0 1 1 1 0 1] = 2.644183773216031\n",
      "Most fitted DNA: [1 0 0 0 0 1 1 1 1 1] = 2.653958944281525\n",
      "Most fitted DNA: [1 0 0 0 0 1 1 1 1 1] = 2.653958944281525\n",
      "Most fitted DNA: [1 0 0 0 0 1 1 1 0 1] = 2.644183773216031\n",
      "Most fitted DNA: [1 0 0 0 0 1 1 1 0 1] = 2.644183773216031\n",
      "Most fitted DNA: [1 0 1 0 0 1 1 1 0 0] = 3.2649071358748776\n",
      "Most fitted DNA: [1 0 1 0 0 1 1 1 0 0] = 3.2649071358748776\n",
      "Most fitted DNA: [1 0 1 0 0 1 1 1 0 0] = 3.2649071358748776\n",
      "Most fitted DNA: [1 0 1 0 0 1 1 1 1 0] = 3.274682306940371\n",
      "Most fitted DNA: [1 0 1 0 0 1 1 1 1 0] = 3.274682306940371\n",
      "Most fitted DNA: [1 0 1 0 0 1 1 1 1 1] = 3.279569892473118\n",
      "Most fitted DNA: [1 0 1 0 0 1 1 1 1 0] = 3.274682306940371\n",
      "Most fitted DNA: [1 0 1 0 0 1 1 1 1 0] = 3.274682306940371\n",
      "Most fitted DNA: [1 0 1 0 0 1 1 1 1 0] = 3.274682306940371\n",
      "Most fitted DNA: [1 0 1 0 0 1 1 1 1 0] = 3.274682306940371\n",
      "Most fitted DNA: [1 0 1 0 0 1 1 1 1 0] = 3.274682306940371\n",
      "Most fitted DNA: [1 0 1 0 0 1 1 1 1 0] = 3.274682306940371\n",
      "Most fitted DNA: [1 0 1 0 0 1 1 0 1 0] = 3.255131964809384\n",
      "Most fitted DNA: [1 0 1 0 0 1 1 0 1 1] = 3.2600195503421308\n",
      "Most fitted DNA: [1 0 1 0 0 1 1 0 1 1] = 3.2600195503421308\n",
      "Most fitted DNA: [1 0 1 0 0 1 1 0 1 1] = 3.2600195503421308\n",
      "Most fitted DNA: [1 0 1 0 0 1 1 0 1 1] = 3.2600195503421308\n",
      "Most fitted DNA: [1 0 1 0 0 1 1 0 1 1] = 3.2600195503421308\n",
      "Most fitted DNA: [1 0 1 0 0 1 1 0 1 1] = 3.2600195503421308\n",
      "Most fitted DNA: [1 0 1 0 0 1 1 0 1 1] = 3.2600195503421308\n",
      "Most fitted DNA: [1 0 1 0 0 1 1 0 1 0] = 3.255131964809384\n",
      "Most fitted DNA: [1 0 1 0 0 1 1 1 1 1] = 3.279569892473118\n",
      "Most fitted DNA: [1 0 1 0 0 1 1 1 1 1] = 3.279569892473118\n",
      "Most fitted DNA: [1 0 1 0 0 1 1 1 1 1] = 3.279569892473118\n",
      "Most fitted DNA: [1 0 1 0 0 1 1 1 1 1] = 3.279569892473118\n",
      "Most fitted DNA: [1 0 1 0 0 1 1 1 1 1] = 3.279569892473118\n",
      "Most fitted DNA: [1 0 1 0 0 1 1 1 1 1] = 3.279569892473118\n",
      "Most fitted DNA: [1 0 1 0 0 1 1 1 1 1] = 3.279569892473118\n",
      "Most fitted DNA: [1 0 1 0 0 1 1 1 1 1] = 3.279569892473118\n",
      "Most fitted DNA: [1 0 1 0 0 1 1 1 1 1] = 3.279569892473118\n",
      "Most fitted DNA: [1 0 1 0 0 1 1 1 1 1] = 3.279569892473118\n",
      "Most fitted DNA: [1 0 1 0 0 1 1 1 1 1] = 3.279569892473118\n",
      "Most fitted DNA: [1 0 1 0 0 1 1 1 1 1] = 3.279569892473118\n",
      "Most fitted DNA: [1 0 1 0 0 1 1 1 1 1] = 3.279569892473118\n",
      "Most fitted DNA: [1 0 1 0 0 1 1 1 0 1] = 3.2697947214076244\n",
      "Most fitted DNA: [1 0 1 0 0 1 1 1 0 1] = 3.2697947214076244\n",
      "Most fitted DNA: [1 0 1 0 0 1 1 1 0 1] = 3.2697947214076244\n",
      "Most fitted DNA: [1 0 1 0 0 1 1 1 0 1] = 3.2697947214076244\n",
      "Most fitted DNA: [1 0 1 0 0 1 1 1 0 1] = 3.2697947214076244\n",
      "Most fitted DNA: [1 0 1 0 0 1 1 1 0 1] = 3.2697947214076244\n",
      "Most fitted DNA: [1 0 1 0 0 1 1 1 1 1] = 3.279569892473118\n",
      "Most fitted DNA: [1 0 1 0 0 1 1 1 0 1] = 3.2697947214076244\n",
      "Most fitted DNA: [1 0 1 0 0 1 1 1 0 1] = 3.2697947214076244\n",
      "Most fitted DNA: [1 0 1 0 0 1 1 1 0 1] = 3.2697947214076244\n",
      "Most fitted DNA: [1 0 1 0 1 0 0 1 0 1] = 3.308895405669599\n",
      "Most fitted DNA: [1 0 1 0 1 0 0 1 0 1] = 3.308895405669599\n",
      "Most fitted DNA: [1 0 1 0 1 0 0 1 0 1] = 3.308895405669599\n",
      "Most fitted DNA: [1 0 1 0 0 1 0 1 1 0] = 3.2355816226783967\n",
      "Most fitted DNA: [1 0 1 0 1 0 0 1 0 0] = 3.304007820136852\n",
      "Most fitted DNA: [1 0 1 0 1 0 0 1 0 0] = 3.304007820136852\n",
      "Most fitted DNA: [1 0 1 0 0 1 0 1 1 0] = 3.2355816226783967\n",
      "Most fitted DNA: [1 0 1 0 0 1 0 1 1 0] = 3.2355816226783967\n",
      "Most fitted DNA: [1 0 1 0 0 1 0 1 1 0] = 3.2355816226783967\n",
      "Most fitted DNA: [1 0 1 0 0 1 0 1 1 0] = 3.2355816226783967\n",
      "Most fitted DNA: [1 0 1 0 0 1 0 1 1 0] = 3.2355816226783967\n",
      "Most fitted DNA: [1 0 1 0 0 1 1 1 0 0] = 3.2649071358748776\n",
      "Most fitted DNA: [1 0 1 0 0 1 1 1 0 0] = 3.2649071358748776\n",
      "Most fitted DNA: [1 0 1 0 0 1 1 1 0 1] = 3.2697947214076244\n",
      "Most fitted DNA: [1 0 1 0 0 1 1 1 0 1] = 3.2697947214076244\n",
      "Most fitted DNA: [1 0 1 0 0 1 1 1 0 1] = 3.2697947214076244\n",
      "Most fitted DNA: [1 0 1 0 0 1 1 1 1 1] = 3.279569892473118\n",
      "Most fitted DNA: [1 0 1 0 0 1 1 1 1 1] = 3.279569892473118\n",
      "Most fitted DNA: [1 0 1 0 0 1 1 1 1 1] = 3.279569892473118\n",
      "Most fitted DNA: [1 0 1 0 0 1 1 1 1 1] = 3.279569892473118\n",
      "Most fitted DNA: [1 0 1 0 0 1 1 1 1 1] = 3.279569892473118\n",
      "Most fitted DNA: [1 0 1 0 0 1 1 1 1 0] = 3.274682306940371\n",
      "Most fitted DNA: [1 0 1 0 0 1 1 1 1 0] = 3.274682306940371\n",
      "Most fitted DNA: [1 0 1 0 0 1 1 1 0 1] = 3.2697947214076244\n",
      "Most fitted DNA: [1 0 1 0 0 1 1 1 0 1] = 3.2697947214076244\n",
      "Most fitted DNA: [1 0 1 0 0 1 1 1 0 1] = 3.2697947214076244\n",
      "Most fitted DNA: [1 0 1 0 0 1 1 1 0 1] = 3.2697947214076244\n",
      "Most fitted DNA: [1 0 1 0 0 1 1 1 0 1] = 3.2697947214076244\n",
      "Most fitted DNA: [1 0 1 0 0 1 1 1 1 1] = 3.279569892473118\n",
      "Most fitted DNA: [1 0 1 0 0 1 1 1 1 1] = 3.279569892473118\n",
      "Most fitted DNA: [1 0 1 0 0 1 1 1 0 1] = 3.2697947214076244\n",
      "Most fitted DNA: [1 0 1 0 0 1 1 1 1 1] = 3.279569892473118\n",
      "Most fitted DNA: [1 0 1 0 0 1 1 1 1 1] = 3.279569892473118\n",
      "Most fitted DNA: [1 0 1 0 0 1 1 1 1 1] = 3.279569892473118\n",
      "Most fitted DNA: [1 0 1 0 0 1 1 1 0 1] = 3.2697947214076244\n",
      "Most fitted DNA: [1 0 1 0 0 1 1 1 0 1] = 3.2697947214076244\n",
      "Most fitted DNA: [1 0 1 0 0 1 1 1 0 1] = 3.2697947214076244\n",
      "Most fitted DNA: [1 0 1 0 0 1 1 1 0 1] = 3.2697947214076244\n",
      "Most fitted DNA: [1 0 1 0 0 1 1 1 0 1] = 3.2697947214076244\n",
      "Most fitted DNA: [1 0 1 0 0 1 1 1 0 1] = 3.2697947214076244\n",
      "Most fitted DNA: [1 0 1 0 0 1 1 1 1 1] = 3.279569892473118\n",
      "Most fitted DNA: [1 0 1 0 0 1 1 1 1 1] = 3.279569892473118\n",
      "Most fitted DNA: [1 0 1 0 0 1 1 1 1 1] = 3.279569892473118\n",
      "Most fitted DNA: [1 0 1 0 0 1 1 1 1 1] = 3.279569892473118\n",
      "Most fitted DNA: [1 0 1 0 0 1 1 1 1 1] = 3.279569892473118\n",
      "Most fitted DNA: [1 0 1 0 0 1 1 1 1 1] = 3.279569892473118\n",
      "Most fitted DNA: [1 0 1 0 0 1 1 1 1 1] = 3.279569892473118\n",
      "Most fitted DNA: [1 0 1 0 0 1 1 1 1 1] = 3.279569892473118\n",
      "Most fitted DNA: [1 0 1 0 0 1 1 1 0 1] = 3.2697947214076244\n",
      "Most fitted DNA: [1 0 1 0 1 1 0 0 1 1] = 3.3773216031280544\n",
      "Most fitted DNA: [1 0 1 0 1 1 0 0 1 1] = 3.3773216031280544\n",
      "Most fitted DNA: [1 0 1 0 0 1 0 1 1 1] = 3.2404692082111435\n",
      "Most fitted DNA: [1 0 1 0 0 1 0 1 1 1] = 3.2404692082111435\n",
      "Most fitted DNA: [1 0 1 0 1 0 0 0 0 1] = 3.2893450635386117\n",
      "Most fitted DNA: [1 0 1 0 1 0 0 0 0 1] = 3.2893450635386117\n",
      "Most fitted DNA: [1 0 1 0 1 0 0 0 1 1] = 3.2991202346041053\n",
      "Most fitted DNA: [1 0 1 0 1 0 0 0 1 1] = 3.2991202346041053\n",
      "Most fitted DNA: [1 0 1 0 1 0 0 0 0 1] = 3.2893450635386117\n",
      "Most fitted DNA: [1 0 1 0 1 0 0 0 0 1] = 3.2893450635386117\n",
      "Most fitted DNA: [1 0 1 0 1 0 0 0 0 1] = 3.2893450635386117\n",
      "Most fitted DNA: [1 0 1 0 1 0 0 0 0 1] = 3.2893450635386117\n",
      "Most fitted DNA: [1 0 1 0 1 0 0 0 1 1] = 3.2991202346041053\n",
      "Most fitted DNA: [1 0 1 0 1 0 0 0 0 1] = 3.2893450635386117\n",
      "Most fitted DNA: [1 0 1 0 1 0 0 0 0 1] = 3.2893450635386117\n",
      "Most fitted DNA: [1 0 1 0 1 0 0 0 0 1] = 3.2893450635386117\n",
      "Most fitted DNA: [1 0 1 0 1 0 0 0 0 1] = 3.2893450635386117\n",
      "Most fitted DNA: [1 0 1 0 1 0 0 0 0 1] = 3.2893450635386117\n",
      "Most fitted DNA: [1 0 1 0 1 0 0 0 0 1] = 3.2893450635386117\n",
      "Most fitted DNA: [1 0 1 0 1 0 0 0 0 1] = 3.2893450635386117\n",
      "Most fitted DNA: [1 0 1 0 1 0 0 0 1 1] = 3.2991202346041053\n",
      "Most fitted DNA: [1 0 1 0 1 0 0 0 0 1] = 3.2893450635386117\n",
      "Most fitted DNA: [1 0 1 0 1 0 0 0 0 1] = 3.2893450635386117\n",
      "Most fitted DNA: [1 0 1 0 1 0 0 0 0 1] = 3.2893450635386117\n",
      "Most fitted DNA: [1 0 1 0 1 0 0 0 0 1] = 3.2893450635386117\n",
      "Most fitted DNA: [1 0 1 0 1 0 0 0 0 1] = 3.2893450635386117\n",
      "Most fitted DNA: [1 0 1 0 1 0 0 0 0 1] = 3.2893450635386117\n",
      "Most fitted DNA: [1 0 1 0 1 0 0 0 0 1] = 3.2893450635386117\n",
      "Most fitted DNA: [1 0 1 0 1 0 0 0 1 1] = 3.2991202346041053\n",
      "Most fitted DNA: [1 0 1 0 1 0 0 0 1 1] = 3.2991202346041053\n",
      "Most fitted DNA: [1 0 1 0 1 0 0 1 0 0] = 3.304007820136852\n",
      "Most fitted DNA: [1 0 1 0 1 0 0 1 0 0] = 3.304007820136852\n",
      "Most fitted DNA: [1 0 1 0 1 0 0 1 0 0] = 3.304007820136852\n",
      "Most fitted DNA: [1 0 1 0 1 0 0 1 0 0] = 3.304007820136852\n",
      "Most fitted DNA: [1 0 1 0 1 0 0 1 0 0] = 3.304007820136852\n",
      "Most fitted DNA: [1 0 1 0 1 0 0 1 0 0] = 3.304007820136852\n",
      "Most fitted DNA: [1 0 1 0 1 0 0 0 1 1] = 3.2991202346041053\n",
      "Most fitted DNA: [1 0 1 0 1 0 0 0 0 1] = 3.2893450635386117\n",
      "Most fitted DNA: [1 0 1 0 1 0 0 0 0 1] = 3.2893450635386117\n",
      "Most fitted DNA: [1 0 1 0 1 0 0 0 0 1] = 3.2893450635386117\n",
      "Most fitted DNA: [1 0 1 0 1 0 0 0 0 1] = 3.2893450635386117\n",
      "Most fitted DNA: [1 0 1 0 1 0 0 0 0 1] = 3.2893450635386117\n",
      "Most fitted DNA: [1 0 1 0 1 0 0 0 0 1] = 3.2893450635386117\n",
      "Most fitted DNA: [1 0 1 0 1 0 0 0 0 1] = 3.2893450635386117\n",
      "Most fitted DNA: [1 0 1 0 1 0 0 0 0 1] = 3.2893450635386117\n"
     ]
    },
    {
     "name": "stdout",
     "output_type": "stream",
     "text": [
      "Most fitted DNA: [1 0 1 0 1 0 0 0 0 1] = 3.2893450635386117\n",
      "Most fitted DNA: [1 0 1 0 1 0 0 1 0 0] = 3.304007820136852\n",
      "Most fitted DNA: [1 0 1 0 1 0 0 0 0 1] = 3.2893450635386117\n",
      "Most fitted DNA: [1 0 1 0 1 0 0 0 1 1] = 3.2991202346041053\n",
      "Most fitted DNA: [1 0 1 0 1 0 0 0 1 1] = 3.2991202346041053\n",
      "Most fitted DNA: [1 0 1 0 1 0 0 0 0 1] = 3.2893450635386117\n",
      "Most fitted DNA: [1 0 1 0 1 0 0 0 0 1] = 3.2893450635386117\n",
      "Most fitted DNA: [1 0 1 0 1 0 0 0 0 1] = 3.2893450635386117\n",
      "Most fitted DNA: [1 0 1 0 1 0 0 0 0 1] = 3.2893450635386117\n",
      "Most fitted DNA: [1 0 1 0 1 0 0 0 0 1] = 3.2893450635386117\n",
      "Most fitted DNA: [1 0 1 0 1 0 0 0 0 1] = 3.2893450635386117\n",
      "Most fitted DNA: [1 0 1 0 1 0 0 0 0 1] = 3.2893450635386117\n",
      "Most fitted DNA: [1 0 1 0 1 0 0 0 0 1] = 3.2893450635386117\n",
      "Most fitted DNA: [1 0 1 0 1 0 0 1 0 0] = 3.304007820136852\n",
      "Most fitted DNA: [1 0 1 0 1 0 0 0 0 1] = 3.2893450635386117\n",
      "Most fitted DNA: [1 0 1 0 1 0 0 0 0 1] = 3.2893450635386117\n",
      "Most fitted DNA: [1 0 1 0 1 0 0 0 1 1] = 3.2991202346041053\n",
      "Most fitted DNA: [1 0 1 0 1 0 0 0 0 1] = 3.2893450635386117\n",
      "Most fitted DNA: [1 0 1 0 1 0 0 0 0 1] = 3.2893450635386117\n",
      "Most fitted DNA: [1 0 1 0 1 0 0 0 1 1] = 3.2991202346041053\n",
      "Most fitted DNA: [1 0 1 0 1 0 0 0 0 1] = 3.2893450635386117\n",
      "Most fitted DNA: [1 0 1 0 1 0 0 0 0 1] = 3.2893450635386117\n",
      "Most fitted DNA: [1 0 1 0 1 0 0 0 0 1] = 3.2893450635386117\n",
      "Most fitted DNA: [1 0 1 0 1 0 0 0 0 1] = 3.2893450635386117\n",
      "Most fitted DNA: [1 0 1 0 1 0 0 0 0 1] = 3.2893450635386117\n",
      "Most fitted DNA: [1 0 1 0 1 0 0 0 0 1] = 3.2893450635386117\n",
      "Most fitted DNA: [1 0 1 0 1 0 0 0 1 1] = 3.2991202346041053\n",
      "Most fitted DNA: [1 0 1 0 1 0 0 0 1 1] = 3.2991202346041053\n",
      "Most fitted DNA: [1 0 1 0 1 0 0 0 1 1] = 3.2991202346041053\n",
      "Most fitted DNA: [1 0 1 0 1 0 0 0 1 1] = 3.2991202346041053\n",
      "Most fitted DNA: [1 0 1 0 1 0 0 0 1 1] = 3.2991202346041053\n",
      "Most fitted DNA: [1 0 1 0 1 0 0 0 1 1] = 3.2991202346041053\n",
      "Most fitted DNA: [1 0 1 0 1 0 0 0 1 1] = 3.2991202346041053\n",
      "Most fitted DNA: [1 0 1 0 1 0 0 0 1 1] = 3.2991202346041053\n",
      "Most fitted DNA: [1 0 1 0 1 0 0 0 1 1] = 3.2991202346041053\n",
      "Most fitted DNA: [1 0 1 0 1 0 0 0 1 1] = 3.2991202346041053\n",
      "Most fitted DNA: [1 0 1 0 1 0 0 0 1 1] = 3.2991202346041053\n",
      "Most fitted DNA: [1 0 1 0 1 0 0 0 1 1] = 3.2991202346041053\n",
      "Most fitted DNA: [1 0 1 0 1 0 0 0 0 1] = 3.2893450635386117\n",
      "Most fitted DNA: [1 0 1 0 1 0 0 0 0 0] = 3.284457478005865\n",
      "Most fitted DNA: [1 0 1 0 1 0 0 0 1 0] = 3.2942326490713585\n",
      "Most fitted DNA: [1 0 1 0 1 0 0 0 1 1] = 3.2991202346041053\n",
      "Most fitted DNA: [1 0 1 0 1 0 0 0 1 0] = 3.2942326490713585\n",
      "Most fitted DNA: [1 0 1 0 1 0 0 0 1 0] = 3.2942326490713585\n",
      "Most fitted DNA: [1 0 1 0 1 0 0 0 1 0] = 3.2942326490713585\n",
      "Most fitted DNA: [1 0 1 0 1 0 0 0 1 0] = 3.2942326490713585\n",
      "Most fitted DNA: [1 0 1 0 1 0 0 0 1 0] = 3.2942326490713585\n",
      "Most fitted DNA: [1 0 1 0 1 0 0 0 1 0] = 3.2942326490713585\n",
      "Most fitted DNA: [1 0 1 0 1 0 0 0 1 0] = 3.2942326490713585\n",
      "Most fitted DNA: [1 0 1 0 1 0 0 0 1 0] = 3.2942326490713585\n"
     ]
    },
    {
     "data": {
      "image/png": "[encoded data removed]",
      "text/plain": [
       "<matplotlib.figure.Figure at 0x109331320>"
      ]
     },
     "metadata": {},
     "output_type": "display_data"
    }
   ],
   "source": [
    "plt.ion()\n",
    "x = np.linspace(*x_bound, 200)\n",
    "plt.plot(x, f(x))\n",
    "\n",
    "for _ in range(n_generations):\n",
    "    f_values = f(translateDNA(pop))\n",
    "    \n",
    "    if 'sca' in globals():\n",
    "        sca.remove()\n",
    "    sca = plt.scatter(translateDNA(pop), f_values, s=300, lw=0, c='red', alpha=0.5)\n",
    "#     plt.pause(0.05)\n",
    "    \n",
    "    fitness = get_fitness(f_values)\n",
    "    print('Most fitted DNA: {} = {}'.format(pop[np.argmax(fitness),:], translateDNA(pop[np.argmax(fitness),:])))\n",
    "    pop = select(pop, fitness)\n",
    "    pop_copy = pop.copy()\n",
    "    for parent in pop:\n",
    "        child = crossover(parent, pop_copy)\n",
    "        child = mutate(child)\n",
    "        parent = child\n",
    "\n",
    "plt.ioff()\n",
    "plt.show()"
   ]
  },
  {
   "cell_type": "code",
   "execution_count": null,
   "metadata": {
    "collapsed": true
   },
   "outputs": [],
   "source": []
  }
 ],
 "metadata": {
  "kernelspec": {
   "display_name": "Python 3",
   "language": "python",
   "name": "python3"
  },
  "language_info": {
   "codemirror_mode": {
    "name": "ipython",
    "version": 3
   },
   "file_extension": ".py",
   "mimetype": "text/x-python",
   "name": "python",
   "nbconvert_exporter": "python",
   "pygments_lexer": "ipython3",
   "version": "3.6.2"
  }
 },
 "nbformat": 4,
 "nbformat_minor": 2
}
