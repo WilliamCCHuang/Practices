{
 "cells": [
  {
   "cell_type": "markdown",
   "metadata": {},
   "source": [
    "# Microbial Genetic Algorithm"
   ]
  },
  {
   "cell_type": "markdown",
   "metadata": {},
   "source": [
    "Genetic Algorithm may lose some elites, which are the best individuals, however, Microbial Genetic Algorithm can keep them."
   ]
  },
  {
   "cell_type": "markdown",
   "metadata": {},
   "source": [
    "### Microbial Genetic Algorithm:\n",
    "    In every evolution:\n",
    "    1. Pick two DNA from the population at random\n",
    "    2. Compare their fitness to determine Winner and Loser\n",
    "    3. Go along the Loser choromosome, at each locus (Point) and\n",
    "       (1) With some probability, perform cross over on Loser\n",
    "           i.e., copy from Winner to Loser (overwrite)\n",
    "       (2) With some probability, perform mutation on Loser\n",
    "    \n",
    "    So only the Loser gets changed, which gives a version of Elitism for free, this ensures that the best in breed\n",
    "    remains in the population."
   ]
  },
  {
   "cell_type": "code",
   "execution_count": 1,
   "metadata": {
    "collapsed": true
   },
   "outputs": [],
   "source": [
    "import numpy as np\n",
    "import matplotlib.pyplot as plt"
   ]
  },
  {
   "cell_type": "code",
   "execution_count": 2,
   "metadata": {
    "collapsed": true
   },
   "outputs": [],
   "source": [
    "DNA_size = 10\n",
    "pop_size = 20\n",
    "crossover_rate = 0.6\n",
    "mutation_rate = 0.01\n",
    "n_generations = 200\n",
    "x_bound = [0, 5]"
   ]
  },
  {
   "cell_type": "code",
   "execution_count": 3,
   "metadata": {
    "collapsed": true
   },
   "outputs": [],
   "source": [
    "def f(x):\n",
    "    return np.sin(10*x)*x + np.cos(2*x)*x"
   ]
  },
  {
   "cell_type": "code",
   "execution_count": 4,
   "metadata": {
    "collapsed": true
   },
   "outputs": [],
   "source": [
    "class MGA(object):\n",
    "    def __init__(self, DNA_size, DNA_bound, crossover_rate, mutation_rate, pop_size):\n",
    "        self.DNA_size = DNA_size\n",
    "        DNA_bound[1] += 1\n",
    "        self.DNA_bound = DNA_bound\n",
    "        self.crossover_rate = crossover_rate\n",
    "        self.mutation_rate = mutation_rate\n",
    "        self.pop_size = pop_size\n",
    "        self.pop = np.random.randint(DNA_bound[0], DNA_bound[1], size=(1, self.DNA_size)).repeat(pop_size, axis=0)\n",
    "        \n",
    "    def translateDNA(self, pop):\n",
    "        return pop.dot(2**np.arange(DNA_size)[::-1]) / float(2**DNA_size-1) * x_bound[1]\n",
    "    \n",
    "    def get_fitness(self, product):\n",
    "        return product\n",
    "    \n",
    "    def crossover(self, loser_winner):\n",
    "        cross_index = np.empty((self.DNA_size,)).astype(np.bool)\n",
    "        for i in range(self.DNA_size):\n",
    "            cross_index[i] = True if np.random.rand() < crossover_rate else False\n",
    "        loser_winner[0, cross_index] = loser_winner[1, cross_index]\n",
    "        return loser_winner\n",
    "    \n",
    "    def mutate(self, loser_winner):\n",
    "        mutation_index = np.empty((self.DNA_size,)).astype(np.bool)\n",
    "        for i in range(self.DNA_size):\n",
    "            mutation_index = True if np.random.rand() < mutation_rate else False\n",
    "        loser_winner[0, mutation_index] = ~loser_winner[0, mutation_index].astype(np.bool)\n",
    "        return loser_winner\n",
    "    \n",
    "    def evolve(self, n):\n",
    "        for _ in range(n):\n",
    "            sub_pop_index = np.random.choice(np.arange(0, self.pop_size), size=2, replace=False)\n",
    "            sub_pop = self.pop[sub_pop_index]\n",
    "            product = f(self.translateDNA(sub_pop))\n",
    "            fitness = self.get_fitness(product)\n",
    "            loser_winner_index = np.argsort(fitness)\n",
    "            loser_winner = sub_pop[loser_winner_index]\n",
    "            loser_winner = self.crossover(loser_winner)\n",
    "            loser_winner = self.mutate(loser_winner)\n",
    "            self.pop[sub_pop_index] = loser_winner\n",
    "            \n",
    "        DNA_product = self.translateDNA(self.pop)\n",
    "        pred = f(DNA_product)\n",
    "        return DNA_product, pred"
   ]
  },
  {
   "cell_type": "code",
   "execution_count": 5,
   "metadata": {},
   "outputs": [
    {
     "data": {
      "image/png": "[encoded data removed]",
      "text/plain": [
       "<matplotlib.figure.Figure at 0x10f1370f0>"
      ]
     },
     "metadata": {},
     "output_type": "display_data"
    }
   ],
   "source": [
    "plt.ion()\n",
    "x = np.linspace(*x_bound, 200)\n",
    "plt.plot(x, f(x))\n",
    "\n",
    "ga = MGA(DNA_size=DNA_size, DNA_bound=[0,1], crossover_rate=crossover_rate, mutation_rate=mutation_rate, pop_size=pop_size)\n",
    "\n",
    "for _ in range(n_generations):\n",
    "    DNA_prod, pred = ga.evolve(5)\n",
    "    \n",
    "    if 'sca' in globals():\n",
    "        sca.remove()\n",
    "    sca = plt.scatter(DNA_prod, pred, s=200, lw=0, c='red', alpha=0.5)\n",
    "    plt.pause(0.05)\n",
    "\n",
    "plt.ioff()\n",
    "plt.show()"
   ]
  },
  {
   "cell_type": "code",
   "execution_count": null,
   "metadata": {
    "collapsed": true
   },
   "outputs": [],
   "source": []
  }
 ],
 "metadata": {
  "kernelspec": {
   "display_name": "Python 3",
   "language": "python",
   "name": "python3"
  },
  "language_info": {
   "codemirror_mode": {
    "name": "ipython",
    "version": 3
   },
   "file_extension": ".py",
   "mimetype": "text/x-python",
   "name": "python",
   "nbconvert_exporter": "python",
   "pygments_lexer": "ipython3",
   "version": "3.6.2"
  }
 },
 "nbformat": 4,
 "nbformat_minor": 2
}
