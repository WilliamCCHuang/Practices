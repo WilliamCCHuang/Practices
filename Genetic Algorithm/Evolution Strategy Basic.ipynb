{
 "cells": [
  {
   "cell_type": "markdown",
   "metadata": {},
   "source": [
    "# Evolution Strategy Basic"
   ]
  },
  {
   "cell_type": "code",
   "execution_count": 1,
   "metadata": {
    "collapsed": true
   },
   "outputs": [],
   "source": [
    "import numpy as np\n",
    "import matplotlib.pyplot as plt"
   ]
  },
  {
   "cell_type": "code",
   "execution_count": 2,
   "metadata": {
    "collapsed": true
   },
   "outputs": [],
   "source": [
    "DNA_size = 1\n",
    "pop_size = 100\n",
    "DNA_bound = [0, 5]\n",
    "n_generations = 200\n",
    "n_kid = 50"
   ]
  },
  {
   "cell_type": "code",
   "execution_count": 3,
   "metadata": {
    "collapsed": true
   },
   "outputs": [],
   "source": [
    "def f(x):\n",
    "    return np.sin(10*x)*x + np.cos(2*x)*x"
   ]
  },
  {
   "cell_type": "code",
   "execution_count": 4,
   "metadata": {
    "collapsed": true
   },
   "outputs": [],
   "source": [
    "def get_fitness(pred):\n",
    "    return pred.flatten()"
   ]
  },
  {
   "cell_type": "code",
   "execution_count": 5,
   "metadata": {
    "collapsed": true
   },
   "outputs": [],
   "source": [
    "def make_kid(pop, n_kid):\n",
    "    kids = {'DNA': np.empty((n_kid, DNA_size))}\n",
    "    kids['mut_strength'] = np.empty_like(kids['DNA'])\n",
    "    \n",
    "    for DNA, mutation in zip(kids['DNA'], kids['mut_strength']):\n",
    "        # crossover\n",
    "        parent1, parent2 = np.random.choice(np.arange(pop_size), size=2, replace=False)\n",
    "        cross_points = np.random.randint(0, 2, DNA_size, dtype=np.bool)\n",
    "        DNA[cross_points] = pop['DNA'][parent1, cross_points]\n",
    "        DNA[~cross_points] = pop['DNA'][parent2, ~cross_points]\n",
    "        mutation[cross_points] = pop['mut_strength'][parent1, cross_points]\n",
    "        mutation[~cross_points] = pop['mut_strength'][parent2, ~cross_points]\n",
    "        \n",
    "        # mutate\n",
    "        mutation = np.maximum(mutation+np.random.rand(*mutation.shape)-0.5, 0)\n",
    "        DNA += mutation*np.random.rand(*DNA.shape)\n",
    "        DNA = np.clip(DNA, *DNA_bound) # limit DNA in the range of DNA_bound\n",
    "    \n",
    "    return kids"
   ]
  },
  {
   "cell_type": "code",
   "execution_count": 6,
   "metadata": {
    "collapsed": true
   },
   "outputs": [],
   "source": [
    "def kill_bad(pop, kids):\n",
    "    # combine pop and kids into a lerger pop\n",
    "    for key in ['DNA', 'mut_strength']:\n",
    "        pop[key] = np.vstack((pop[key], kids[key]))\n",
    "        \n",
    "    fitness = get_fitness(f(pop['DNA']))\n",
    "    idx = np.arange(pop['DNA'].shape[0])\n",
    "    good_idx = idx[fitness.argsort()][-pop_size:] # selected by fitness ranking (not value)\n",
    "    \n",
    "    for key in ['DNA', 'mut_strength']:\n",
    "        pop[key] = pop[key][good_idx]\n",
    "    \n",
    "    return pop"
   ]
  },
  {
   "cell_type": "code",
   "execution_count": 7,
   "metadata": {
    "collapsed": true
   },
   "outputs": [],
   "source": [
    "pop = dict(DNA = 5*np.random.rand(1, DNA_size).repeat(pop_size, axis=0),\n",
    "           mut_strength = np.random.rand(pop_size, DNA_size))"
   ]
  },
  {
   "cell_type": "code",
   "execution_count": 8,
   "metadata": {},
   "outputs": [
    {
     "data": {
      "image/png": "[encoded data removed]",
      "text/plain": [
       "<matplotlib.figure.Figure at 0x10b221940>"
      ]
     },
     "metadata": {},
     "output_type": "display_data"
    }
   ],
   "source": [
    "plt.ion()\n",
    "x = np.linspace(*DNA_bound, 200)\n",
    "plt.plot(x, f(x))\n",
    "\n",
    "for _ in range(n_generations):\n",
    "    if 'sca' in globals():\n",
    "        sca.remove()\n",
    "    sca = plt.scatter(pop['DNA'], f(pop['DNA']), s=200, lw=0, c='red', alpha=0.5)\n",
    "    plt.pause(0.05)\n",
    "    \n",
    "    kids = make_kid(pop, n_kid)\n",
    "    pop  = kill_bad(pop, kids)\n",
    "    \n",
    "plt.ioff()\n",
    "plt.show()"
   ]
  },
  {
   "cell_type": "code",
   "execution_count": null,
   "metadata": {
    "collapsed": true
   },
   "outputs": [],
   "source": []
  }
 ],
 "metadata": {
  "kernelspec": {
   "display_name": "Python 3",
   "language": "python",
   "name": "python3"
  },
  "language_info": {
   "codemirror_mode": {
    "name": "ipython",
    "version": 3
   },
   "file_extension": ".py",
   "mimetype": "text/x-python",
   "name": "python",
   "nbconvert_exporter": "python",
   "pygments_lexer": "ipython3",
   "version": "3.6.2"
  }
 },
 "nbformat": 4,
 "nbformat_minor": 2
}
