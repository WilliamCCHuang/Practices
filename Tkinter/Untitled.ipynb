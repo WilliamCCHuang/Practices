{
 "cells": [
  {
   "cell_type": "markdown",
   "metadata": {},
   "source": [
    "# Tkinter"
   ]
  },
  {
   "cell_type": "markdown",
   "metadata": {},
   "source": [
    "### 基本視窗設定"
   ]
  },
  {
   "cell_type": "code",
   "execution_count": 1,
   "metadata": {
    "collapsed": true
   },
   "outputs": [],
   "source": [
    "import tkinter as tk"
   ]
  },
  {
   "cell_type": "code",
   "execution_count": 3,
   "metadata": {},
   "outputs": [],
   "source": [
    "win = tk.Tk()  # 初始化視窗\n",
    "win.mainloop() # 產生視窗"
   ]
  },
  {
   "cell_type": "code",
   "execution_count": 6,
   "metadata": {
    "collapsed": true
   },
   "outputs": [],
   "source": [
    "win=tk.Tk()\n",
    "win.title(\"My First Tk GUI\") # 設定標題\n",
    "win.mainloop()"
   ]
  },
  {
   "cell_type": "code",
   "execution_count": 5,
   "metadata": {
    "collapsed": true
   },
   "outputs": [],
   "source": [
    "win=tk.Tk()\n",
    "win.title(\"My First Tk GUI\")\n",
    "win.resizable(0,0) # 設定禁止調整視窗\n",
    "win.mainloop()"
   ]
  },
  {
   "cell_type": "markdown",
   "metadata": {},
   "source": [
    "### Tkinter 提供了下列 21 種 GUI 元件\n",
    "    Label\n",
    "    Button\n",
    "    Radiobutton\n",
    "    Checkbutton\n",
    "    Entry\n",
    "    Frame\n",
    "    LabelFrame\n",
    "    Listbox\n",
    "    Text\n",
    "    Message\n",
    "    PanedWindow\n",
    "    Scrollbar\n",
    "    Scale\n",
    "    Spinbox\n",
    "    Menu\n",
    "    OptionMenu\n",
    "    Menubutton\n",
    "    Canvas\n",
    "    Image\n",
    "    Bitmap\n",
    "    Toplevel"
   ]
  },
  {
   "cell_type": "markdown",
   "metadata": {},
   "source": [
    "### 元件變數=元件名稱(容器物件變數, [元件選項])\n",
    "    其他為元件之選項參數，例如標籤文字 (text)，大小(size)，邊框 (border)，前景顏色 (foreground)，或背景顏色 (background)，每一種元件可能有不同之選項，可以在建立元件時直接設定，也可以在建立之後呼叫 configure() 函數或其別名 config() 來設定。\n",
    "\n",
    "    其次，所建立的元件必須利用版面管理員 (geometry manager) 於視窗容器中定位，這樣它才會在視窗中顯現，而此 pack() 函數就是一個版面管理員，它會由上而下擺放元件。\n",
    "    \n",
    "    除了由上而下的 pack() 版面管理員外，也可以呼叫 grid() 函數使用網格版面來管理元件。"
   ]
  },
  {
   "cell_type": "code",
   "execution_count": 7,
   "metadata": {
    "collapsed": true
   },
   "outputs": [],
   "source": [
    "win = tk.Tk()\n",
    "win.title(\"Tk GUI\")\n",
    "label = tk.Label(win, text=\"Hello World!\") # 建立標籤物件\n",
    "label.pack() # 顯示元件\n",
    "button = tk.Button(win, text=\"OK\")\n",
    "button.pack() # 顯示元件\n",
    "win.mainloop()"
   ]
  },
  {
   "cell_type": "markdown",
   "metadata": {},
   "source": [
    "在呼叫 grid() 時，我們將 label 放在 0 行 0 列，button 放在 1 行 0 列，亦即這是一個 1x2 (1 列 2 行) 的網格，因此元件是左右各排一個。"
   ]
  },
  {
   "cell_type": "code",
   "execution_count": 9,
   "metadata": {
    "collapsed": true
   },
   "outputs": [],
   "source": [
    "win=tk.Tk()\n",
    "win.title(\"Tk GUI\")\n",
    "label = tk.Label(win, text=\"Hello World!\")\n",
    "button = tk.Button(win, text=\"OK\")\n",
    "label.grid(column=0, row=0)\n",
    "button.grid(column=1, row=0)\n",
    "win.mainloop()"
   ]
  },
  {
   "cell_type": "markdown",
   "metadata": {},
   "source": [
    "事件處理函數與 GUI 元件之間是透過 command 參數來綁定的。"
   ]
  },
  {
   "cell_type": "code",
   "execution_count": 10,
   "metadata": {
    "collapsed": true
   },
   "outputs": [],
   "source": [
    "win = tk.Tk()\n",
    "win.title(\"Tk GUI\")\n",
    "label = tk.Label(win, text=\"Hello World!\")\n",
    "\n",
    "count = 0\n",
    "def clickOK():\n",
    "    global count\n",
    "    count += 1\n",
    "    label.configure(text=\"Click OK \" + str(count) + \" times\")\n",
    "\n",
    "button = tk.Button(win, text=\"OK\", command=clickOK)\n",
    "\n",
    "label.pack()\n",
    "button.pack()\n",
    "win.mainloop()"
   ]
  },
  {
   "cell_type": "code",
   "execution_count": 11,
   "metadata": {
    "collapsed": true
   },
   "outputs": [],
   "source": [
    "tk._test()"
   ]
  },
  {
   "cell_type": "code",
   "execution_count": null,
   "metadata": {
    "collapsed": true
   },
   "outputs": [],
   "source": []
  }
 ],
 "metadata": {
  "kernelspec": {
   "display_name": "Python 3",
   "language": "python",
   "name": "python3"
  },
  "language_info": {
   "codemirror_mode": {
    "name": "ipython",
    "version": 3
   },
   "file_extension": ".py",
   "mimetype": "text/x-python",
   "name": "python",
   "nbconvert_exporter": "python",
   "pygments_lexer": "ipython3",
   "version": "3.6.2"
  }
 },
 "nbformat": 4,
 "nbformat_minor": 2
}
