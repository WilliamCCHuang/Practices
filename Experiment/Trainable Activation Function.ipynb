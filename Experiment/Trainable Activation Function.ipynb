{
 "cells": [
  {
   "cell_type": "markdown",
   "metadata": {},
   "source": [
    "# Trainable Activation Function"
   ]
  },
  {
   "cell_type": "markdown",
   "metadata": {},
   "source": [
    "This is an experiment to set activation functions to polynomials so that activation functions are trainable."
   ]
  },
  {
   "cell_type": "markdown",
   "metadata": {},
   "source": [
    "1. It does work, however, the trainable activation function is strange due to its shape, especially the negative slope around $x=0$ in some trials. Maybe this result suggests us that we should use activation functions whose slopes are negative around $x=0$?\n",
    "2. By the way, the training is harder than that when the traditional activation functions are chosen. It is caused by the large input of a hidden layer and worsen by polynomial growth of activation function. Maybe the solution is to use batch normalization to shrink the input.\n",
    "3. The batch normalization works very well! It not only shrink the input of the hidden layer but also soften the loss and accuracy curve, forbid very high loss at begining, and reduce the training epoch.\n",
    "3. The Trainable activation function improve the accuracy slightly.\n",
    "4. Every trial we get very different activation function, what does it mean?"
   ]
  },
  {
   "cell_type": "code",
   "execution_count": 1,
   "metadata": {},
   "outputs": [
    {
     "name": "stderr",
     "output_type": "stream",
     "text": [
      "/Users/william/anaconda3/lib/python3.6/importlib/_bootstrap.py:205: RuntimeWarning: compiletime version 3.5 of module 'tensorflow.python.framework.fast_tensor_util' does not match runtime version 3.6\n",
      "  return f(*args, **kwds)\n"
     ]
    },
    {
     "name": "stdout",
     "output_type": "stream",
     "text": [
      "Extracting ../MNIST_data/train-images-idx3-ubyte.gz\n",
      "Extracting ../MNIST_data/train-labels-idx1-ubyte.gz\n",
      "Extracting ../MNIST_data/t10k-images-idx3-ubyte.gz\n",
      "Extracting ../MNIST_data/t10k-labels-idx1-ubyte.gz\n"
     ]
    }
   ],
   "source": [
    "import numpy as np\n",
    "from tqdm import tqdm_notebook\n",
    "import matplotlib.pyplot as plt\n",
    "%matplotlib inline\n",
    "\n",
    "import tensorflow as tf\n",
    "from tensorflow.examples.tutorials.mnist import input_data\n",
    "\n",
    "mnist = input_data.read_data_sets('../MNIST_data', one_hot=True)"
   ]
  },
  {
   "cell_type": "markdown",
   "metadata": {},
   "source": [
    "# Basic Neural Network: no hidden layer\n",
    "### #weight = 7840"
   ]
  },
  {
   "cell_type": "code",
   "execution_count": 2,
   "metadata": {
    "collapsed": true
   },
   "outputs": [],
   "source": [
    "lr = 0.001\n",
    "batch_size = 128\n",
    "\n",
    "n_input = 28*28\n",
    "n_classes = 10\n",
    "epoch = 30"
   ]
  },
  {
   "cell_type": "code",
   "execution_count": 3,
   "metadata": {
    "collapsed": true
   },
   "outputs": [],
   "source": [
    "x = tf.placeholder(tf.float32, shape=[None, n_input], name='input')\n",
    "y = tf.placeholder(tf.float32, shape=[None, n_classes], name='output')"
   ]
  },
  {
   "cell_type": "code",
   "execution_count": 4,
   "metadata": {
    "collapsed": true
   },
   "outputs": [],
   "source": [
    "W = tf.Variable(tf.random_uniform(shape=[n_input, n_classes], minval=-1., maxval=1., name='W'))\n",
    "b = tf.Variable(tf.constant(value=0., shape=[n_classes]), name='b')"
   ]
  },
  {
   "cell_type": "code",
   "execution_count": 5,
   "metadata": {
    "collapsed": true
   },
   "outputs": [],
   "source": [
    "def DNN_1(X, weight, bias):\n",
    "    output = tf.matmul(X, weight) + b\n",
    "    return output"
   ]
  },
  {
   "cell_type": "code",
   "execution_count": 6,
   "metadata": {
    "collapsed": true
   },
   "outputs": [],
   "source": [
    "pred = DNN_1(x, W, b)"
   ]
  },
  {
   "cell_type": "code",
   "execution_count": 7,
   "metadata": {
    "collapsed": true
   },
   "outputs": [],
   "source": [
    "loss = tf.reduce_mean(tf.nn.softmax_cross_entropy_with_logits(labels=y, logits=pred))\n",
    "train_op = tf.train.AdamOptimizer(lr).minimize(loss)"
   ]
  },
  {
   "cell_type": "code",
   "execution_count": 8,
   "metadata": {
    "collapsed": true
   },
   "outputs": [],
   "source": [
    "correct_pred = tf.equal(tf.argmax(pred, 1), tf.argmax(y, 1))\n",
    "accuracy = tf.reduce_mean(tf.cast(correct_pred, dtype=tf.float32))"
   ]
  },
  {
   "cell_type": "code",
   "execution_count": 9,
   "metadata": {
    "collapsed": true
   },
   "outputs": [],
   "source": [
    "init = tf.global_variables_initializer()"
   ]
  },
  {
   "cell_type": "code",
   "execution_count": 12,
   "metadata": {},
   "outputs": [
    {
     "data": {
      "application/vnd.jupyter.widget-view+json": {
       "model_id": "1b2b7b2226934b4485946f374febd723",
       "version_major": 2,
       "version_minor": 0
      },
      "text/plain": [
       "A Jupyter Widget"
      ]
     },
     "metadata": {},
     "output_type": "display_data"
    },
    {
     "name": "stdout",
     "output_type": "stream",
     "text": [
      "\n"
     ]
    }
   ],
   "source": [
    "loss_list = []\n",
    "accuracy_list = []\n",
    "\n",
    "with tf.Session() as sess:\n",
    "    sess.run(init)\n",
    "    \n",
    "    batch = int(mnist.train.num_examples / batch_size)\n",
    "    test_x = mnist.test.images.reshape([-1, n_input])\n",
    "    test_y = mnist.test.labels\n",
    "    \n",
    "    for _ in tqdm_notebook(range(epoch)):\n",
    "        for _ in range(batch):\n",
    "            batch_x, batch_y = mnist.train.next_batch(batch_size)\n",
    "            batch_x = batch_x.reshape([-1, n_input])\n",
    "            _, _loss = sess.run([train_op, loss], feed_dict={x: batch_x, y: batch_y})\n",
    "            loss_list.append(_loss)\n",
    "        \n",
    "        _accuracy = sess.run(accuracy, feed_dict={x: test_x, y:test_y})\n",
    "        accuracy_list.append(_accuracy)"
   ]
  },
  {
   "cell_type": "code",
   "execution_count": 14,
   "metadata": {},
   "outputs": [
    {
     "data": {
      "text/plain": [
       "<matplotlib.text.Text at 0x1a2c18efd0>"
      ]
     },
     "execution_count": 14,
     "metadata": {},
     "output_type": "execute_result"
    },
    {
     "data": {
      "image/png": "[encoded data removed]",
      "text/plain": [
       "<matplotlib.figure.Figure at 0x1a2e227518>"
      ]
     },
     "metadata": {},
     "output_type": "display_data"
    }
   ],
   "source": [
    "fig = plt.figure(figsize=(12, 5))\n",
    "\n",
    "plt.subplot(1, 2, 1)\n",
    "plt.plot(loss_list)\n",
    "plt.title('Loss')\n",
    "\n",
    "plt.subplot(1, 2, 2)\n",
    "plt.plot(accuracy_list)\n",
    "plt.title('Accuracy')"
   ]
  },
  {
   "cell_type": "code",
   "execution_count": 15,
   "metadata": {},
   "outputs": [
    {
     "name": "stdout",
     "output_type": "stream",
     "text": [
      "Best loss: 0.0680992\n",
      "Best accurracy: 0.9223\n"
     ]
    }
   ],
   "source": [
    "print('Best loss:', np.min(loss_list))\n",
    "print('Best accurracy:', np.max(accuracy_list))"
   ]
  },
  {
   "cell_type": "markdown",
   "metadata": {},
   "source": [
    "# Basic Neural Network: 1 hidden layer, sigmoid\n",
    "### #weight = 7840 + 100 = 7940"
   ]
  },
  {
   "cell_type": "code",
   "execution_count": 16,
   "metadata": {
    "collapsed": true
   },
   "outputs": [],
   "source": [
    "lr = 0.001\n",
    "batch_size = 128\n",
    "\n",
    "n_input = 28*28\n",
    "n_classes = 10\n",
    "epoch = 30"
   ]
  },
  {
   "cell_type": "code",
   "execution_count": 17,
   "metadata": {
    "collapsed": true
   },
   "outputs": [],
   "source": [
    "x = tf.placeholder(tf.float32, shape=[None, n_input], name='input')\n",
    "y = tf.placeholder(tf.float32, shape=[None, n_classes], name='output')"
   ]
  },
  {
   "cell_type": "code",
   "execution_count": 18,
   "metadata": {
    "collapsed": true
   },
   "outputs": [],
   "source": [
    "W = {0: tf.Variable(tf.random_uniform(shape=[n_input, n_classes], minval=-1., maxval=1., name='W_1')),\n",
    "     1: tf.Variable(tf.random_uniform(shape=[n_classes, n_classes], minval=-1., maxval=1., name='W_2'))}\n",
    "b = {0: tf.Variable(tf.constant(value=0., shape=[n_classes]), name='b_1'),\n",
    "     1: tf.Variable(tf.constant(value=0., shape=[n_classes]), name='b_2')}"
   ]
  },
  {
   "cell_type": "code",
   "execution_count": 19,
   "metadata": {
    "collapsed": true
   },
   "outputs": [],
   "source": [
    "def DNN_2(X, weight, bias):\n",
    "    output = tf.matmul(X, weight[0]) + bias[0]\n",
    "    z_range = tf.reduce_min(output), tf.reduce_max(output)\n",
    "    output = tf.nn.sigmoid(output)\n",
    "    output = tf.matmul(output, weight[1]) + bias[1]\n",
    "    \n",
    "    return z_range, output"
   ]
  },
  {
   "cell_type": "code",
   "execution_count": 20,
   "metadata": {
    "collapsed": true
   },
   "outputs": [],
   "source": [
    "z_range, pred = DNN_2(x, W, b)"
   ]
  },
  {
   "cell_type": "code",
   "execution_count": 21,
   "metadata": {
    "collapsed": true
   },
   "outputs": [],
   "source": [
    "loss = tf.reduce_mean(tf.nn.softmax_cross_entropy_with_logits(labels=y, logits=pred))\n",
    "train_op = tf.train.AdamOptimizer(lr).minimize(loss)"
   ]
  },
  {
   "cell_type": "code",
   "execution_count": 22,
   "metadata": {
    "collapsed": true
   },
   "outputs": [],
   "source": [
    "correct_pred = tf.equal(tf.argmax(pred, 1), tf.argmax(y, 1))\n",
    "accuracy = tf.reduce_mean(tf.cast(correct_pred, dtype=tf.float32))"
   ]
  },
  {
   "cell_type": "code",
   "execution_count": 23,
   "metadata": {
    "collapsed": true
   },
   "outputs": [],
   "source": [
    "init = tf.global_variables_initializer()"
   ]
  },
  {
   "cell_type": "code",
   "execution_count": 24,
   "metadata": {},
   "outputs": [
    {
     "data": {
      "application/vnd.jupyter.widget-view+json": {
       "model_id": "c0402610524840a983d5d37c11a17c18",
       "version_major": 2,
       "version_minor": 0
      },
      "text/plain": [
       "A Jupyter Widget"
      ]
     },
     "metadata": {},
     "output_type": "display_data"
    },
    {
     "name": "stdout",
     "output_type": "stream",
     "text": [
      "z range: (-35.255547, 23.033518)\n",
      "z range: (-32.471809, 31.13628)\n",
      "z range: (-36.392761, 37.902946)\n",
      "z range: (-39.261528, 40.202816)\n",
      "z range: (-40.810432, 41.98954)\n",
      "z range: (-42.340981, 43.315758)\n",
      "z range: (-44.172352, 43.943077)\n",
      "z range: (-44.452942, 44.484718)\n",
      "z range: (-45.919453, 45.264809)\n",
      "z range: (-46.500435, 45.136623)\n",
      "z range: (-47.170406, 44.827747)\n",
      "z range: (-47.354782, 46.029373)\n",
      "z range: (-48.340164, 46.039928)\n",
      "z range: (-48.264484, 47.376358)\n",
      "z range: (-49.321327, 47.107433)\n",
      "z range: (-49.681732, 48.64819)\n",
      "z range: (-49.787449, 49.624348)\n",
      "z range: (-50.277363, 51.036453)\n",
      "z range: (-50.508083, 52.183239)\n",
      "z range: (-51.115059, 53.030327)\n",
      "z range: (-51.510075, 53.309299)\n",
      "z range: (-51.921906, 54.996567)\n",
      "z range: (-52.308468, 55.07996)\n",
      "z range: (-52.455978, 55.809956)\n",
      "z range: (-53.343544, 56.766251)\n",
      "z range: (-53.43557, 57.373371)\n",
      "z range: (-53.54554, 57.407585)\n",
      "z range: (-54.39151, 58.109089)\n",
      "z range: (-54.431381, 59.283005)\n",
      "z range: (-54.641525, 59.965755)\n",
      "\n"
     ]
    }
   ],
   "source": [
    "loss_list = []\n",
    "accuracy_list = []\n",
    "\n",
    "with tf.Session() as sess:\n",
    "    sess.run(init)\n",
    "    \n",
    "    batch = int(mnist.train.num_examples / batch_size)\n",
    "    test_x = mnist.test.images.reshape([-1, n_input])\n",
    "    test_y = mnist.test.labels\n",
    "    \n",
    "    for _ in tqdm_notebook(range(epoch)):\n",
    "        for _ in range(batch):\n",
    "            batch_x, batch_y = mnist.train.next_batch(batch_size)\n",
    "            batch_x = batch_x.reshape([-1, n_input])\n",
    "            _, _loss = sess.run([train_op, loss], feed_dict={x: batch_x, y: batch_y})\n",
    "            loss_list.append(_loss)\n",
    "            \n",
    "        _z_range, _accuracy = sess.run([z_range, accuracy], feed_dict={x: test_x, y:test_y})\n",
    "        accuracy_list.append(_accuracy)\n",
    "        print('z range:', _z_range)"
   ]
  },
  {
   "cell_type": "code",
   "execution_count": 25,
   "metadata": {},
   "outputs": [
    {
     "data": {
      "text/plain": [
       "<matplotlib.text.Text at 0x1a1cfad0b8>"
      ]
     },
     "execution_count": 25,
     "metadata": {},
     "output_type": "execute_result"
    },
    {
     "data": {
      "image/png": "[encoded data removed]",
      "text/plain": [
       "<matplotlib.figure.Figure at 0x1a2c5b1ef0>"
      ]
     },
     "metadata": {},
     "output_type": "display_data"
    }
   ],
   "source": [
    "fig = plt.figure(figsize=(12, 5))\n",
    "\n",
    "plt.subplot(1, 2, 1)\n",
    "plt.plot(loss_list)\n",
    "plt.title('Sigmoid / Loss')\n",
    "\n",
    "plt.subplot(1, 2, 2)\n",
    "plt.plot(accuracy_list)\n",
    "plt.title('Sigmoid / Accuracy')"
   ]
  },
  {
   "cell_type": "code",
   "execution_count": 27,
   "metadata": {},
   "outputs": [
    {
     "name": "stdout",
     "output_type": "stream",
     "text": [
      "Best loss: 0.0720932\n",
      "Best accurracy: 0.9255\n"
     ]
    }
   ],
   "source": [
    "print('Best loss:', np.min(loss_list))\n",
    "print('Best accurracy:', np.max(accuracy_list))"
   ]
  },
  {
   "cell_type": "markdown",
   "metadata": {},
   "source": [
    "# BN Neural Network: 1 hidden layer, 1 batch normalization, sigmoid"
   ]
  },
  {
   "cell_type": "code",
   "execution_count": 32,
   "metadata": {
    "collapsed": true
   },
   "outputs": [],
   "source": [
    "lr = 0.001\n",
    "batch_size = 128\n",
    "\n",
    "n_input = 28*28\n",
    "n_classes = 10\n",
    "epoch = 50"
   ]
  },
  {
   "cell_type": "code",
   "execution_count": 33,
   "metadata": {
    "collapsed": true
   },
   "outputs": [],
   "source": [
    "x = tf.placeholder(tf.float32, shape=[None, n_input], name='input')\n",
    "y = tf.placeholder(tf.float32, shape=[None, n_classes], name='output')"
   ]
  },
  {
   "cell_type": "code",
   "execution_count": 34,
   "metadata": {
    "collapsed": true
   },
   "outputs": [],
   "source": [
    "W = {0: tf.Variable(tf.random_uniform(shape=[n_input, n_classes], minval=-1., maxval=1., name='W_1')),\n",
    "     1: tf.Variable(tf.random_uniform(shape=[n_classes, n_classes], minval=-1., maxval=1., name='W_2'))}\n",
    "b = {0: tf.Variable(tf.constant(value=0., shape=[n_classes]), name='b_1'),\n",
    "     1: tf.Variable(tf.constant(value=0., shape=[n_classes]), name='b_2')}"
   ]
  },
  {
   "cell_type": "code",
   "execution_count": 35,
   "metadata": {
    "collapsed": true
   },
   "outputs": [],
   "source": [
    "def DNN_2(X, weight, bias):\n",
    "    output = tf.matmul(X, weight[0]) + bias[0] # (batch_size, n_classes)\n",
    "    \n",
    "    mean, var = tf.nn.moments(x=output, axes=[0]) # (n_classes,)=(1, n_classes)\n",
    "    output = tf.div(tf.subtract(output, mean), var) # (batch_size, n_classes)\n",
    "    \n",
    "    output = tf.nn.sigmoid(output)\n",
    "    output = tf.matmul(output, weight[1]) + bias[1]\n",
    "    \n",
    "    return output"
   ]
  },
  {
   "cell_type": "code",
   "execution_count": 36,
   "metadata": {},
   "outputs": [],
   "source": [
    "pred = DNN_2(x, W, b)"
   ]
  },
  {
   "cell_type": "code",
   "execution_count": 37,
   "metadata": {
    "collapsed": true
   },
   "outputs": [],
   "source": [
    "loss = tf.reduce_mean(tf.nn.softmax_cross_entropy_with_logits(labels=y, logits=pred))\n",
    "train_op = tf.train.AdamOptimizer(lr).minimize(loss)"
   ]
  },
  {
   "cell_type": "code",
   "execution_count": 38,
   "metadata": {
    "collapsed": true
   },
   "outputs": [],
   "source": [
    "correct_pred = tf.equal(tf.argmax(pred, 1), tf.argmax(y, 1))\n",
    "accuracy = tf.reduce_mean(tf.cast(correct_pred, dtype=tf.float32))"
   ]
  },
  {
   "cell_type": "code",
   "execution_count": 39,
   "metadata": {
    "collapsed": true
   },
   "outputs": [],
   "source": [
    "init = tf.global_variables_initializer()"
   ]
  },
  {
   "cell_type": "code",
   "execution_count": 40,
   "metadata": {},
   "outputs": [
    {
     "data": {
      "application/vnd.jupyter.widget-view+json": {
       "model_id": "e3e1fdcd33e74f43aa1cc2bec7be966e",
       "version_major": 2,
       "version_minor": 0
      },
      "text/plain": [
       "A Jupyter Widget"
      ]
     },
     "metadata": {},
     "output_type": "display_data"
    },
    {
     "name": "stdout",
     "output_type": "stream",
     "text": [
      "\n"
     ]
    }
   ],
   "source": [
    "loss_list = []\n",
    "accuracy_list = []\n",
    "\n",
    "with tf.Session() as sess:\n",
    "    sess.run(init)\n",
    "    \n",
    "    batch = int(mnist.train.num_examples / batch_size)\n",
    "    test_x = mnist.test.images.reshape([-1, n_input])\n",
    "    test_y = mnist.test.labels\n",
    "    \n",
    "    for _ in tqdm_notebook(range(epoch)):\n",
    "        for _ in range(batch):\n",
    "            batch_x, batch_y = mnist.train.next_batch(batch_size)\n",
    "            batch_x = batch_x.reshape([-1, n_input])\n",
    "            _, _loss = sess.run([train_op, loss], feed_dict={x: batch_x, y: batch_y})\n",
    "            loss_list.append(_loss)\n",
    "            \n",
    "        _accuracy = sess.run(accuracy, feed_dict={x: test_x, y:test_y})\n",
    "        accuracy_list.append(_accuracy)"
   ]
  },
  {
   "cell_type": "code",
   "execution_count": 41,
   "metadata": {},
   "outputs": [
    {
     "data": {
      "text/plain": [
       "<matplotlib.text.Text at 0x1a22ca0f98>"
      ]
     },
     "execution_count": 41,
     "metadata": {},
     "output_type": "execute_result"
    },
    {
     "data": {
      "image/png": "[encoded data removed]",
      "text/plain": [
       "<matplotlib.figure.Figure at 0x1a22c2d6a0>"
      ]
     },
     "metadata": {},
     "output_type": "display_data"
    }
   ],
   "source": [
    "fig = plt.figure(figsize=(12, 5))\n",
    "\n",
    "plt.subplot(1, 2, 1)\n",
    "plt.plot(loss_list)\n",
    "plt.title('BN+Sigmoid / Loss')\n",
    "\n",
    "plt.subplot(1, 2, 2)\n",
    "plt.plot(accuracy_list)\n",
    "plt.title('BN+Sigmoid / Accuracy')"
   ]
  },
  {
   "cell_type": "code",
   "execution_count": 42,
   "metadata": {},
   "outputs": [
    {
     "name": "stdout",
     "output_type": "stream",
     "text": [
      "Best loss: 0.0975417\n",
      "Best accurracy: 0.9214\n"
     ]
    }
   ],
   "source": [
    "print('Best loss:', np.min(loss_list))\n",
    "print('Best accurracy:', np.max(accuracy_list))"
   ]
  },
  {
   "cell_type": "markdown",
   "metadata": {},
   "source": [
    "# Neural Network with Trainable Activation function"
   ]
  },
  {
   "cell_type": "markdown",
   "metadata": {},
   "source": [
    "### #weight = 7840 + 100\n",
    "### #power = 4\n",
    "### #total weight =  7840 + 100 + power = 7944"
   ]
  },
  {
   "cell_type": "code",
   "execution_count": 92,
   "metadata": {
    "collapsed": true
   },
   "outputs": [],
   "source": [
    "lr = 0.001\n",
    "batch_size = 128\n",
    "\n",
    "n_input = 28*28\n",
    "n_power = 8\n",
    "n_classes = 10\n",
    "epoch = 100"
   ]
  },
  {
   "cell_type": "code",
   "execution_count": 93,
   "metadata": {
    "collapsed": true
   },
   "outputs": [],
   "source": [
    "x = tf.placeholder(tf.float32, shape=[None, n_input], name='input')\n",
    "y = tf.placeholder(tf.float32, shape=[None, n_classes], name='output')"
   ]
  },
  {
   "cell_type": "code",
   "execution_count": 94,
   "metadata": {
    "collapsed": true
   },
   "outputs": [],
   "source": [
    "W = {0: tf.Variable(tf.random_uniform(shape=[n_input, n_classes], minval=-1., maxval=1., name='W_1')),\n",
    "     1: tf.Variable(tf.random_uniform(shape=[n_classes, n_classes], minval=-1., maxval=1., name='W_2'))}\n",
    "b = {0: tf.Variable(tf.constant(value=0., shape=[n_classes]), name='b_1'),\n",
    "     1: tf.Variable(tf.constant(value=0., shape=[n_classes]), name='b_2')}"
   ]
  },
  {
   "cell_type": "code",
   "execution_count": 95,
   "metadata": {
    "collapsed": true
   },
   "outputs": [],
   "source": [
    "a = tf.Variable(tf.multiply(tf.convert_to_tensor([10**(-i) for i in range(n_power)]),\n",
    "                            tf.random_normal(stddev=1, shape=[n_power]))\n",
    "                , name='a')"
   ]
  },
  {
   "cell_type": "code",
   "execution_count": 96,
   "metadata": {
    "collapsed": true
   },
   "outputs": [],
   "source": [
    "def DNN_test(X, weight, bias, a, n_power):\n",
    "    z = tf.matmul(X, weight[0]) + bias[0] # (batch_size, n_classes)\n",
    "    \n",
    "    z_power_list = [tf.pow(z, i) for i in range(n_power)]\n",
    "    z_power = tf.convert_to_tensor(z_power_list) # (n_power, batch_size, n_classes)\n",
    "    \n",
    "    a = tf.expand_dims(a, 1)  # (n_power, 1)\n",
    "    a = tf.expand_dims(a, -1) # (n_power, 1, 1)\n",
    "    output = tf.reduce_sum(tf.multiply(a, z_power), axis=0) # (batch_size, n_classes)\n",
    "    \n",
    "    output = tf.matmul(output, weight[1]) + bias[1]\n",
    "    \n",
    "    return output"
   ]
  },
  {
   "cell_type": "code",
   "execution_count": 97,
   "metadata": {
    "collapsed": true
   },
   "outputs": [],
   "source": [
    "pred = DNN_test(x, W, b, a, n_power)"
   ]
  },
  {
   "cell_type": "code",
   "execution_count": 98,
   "metadata": {
    "collapsed": true
   },
   "outputs": [],
   "source": [
    "loss = tf.reduce_mean(tf.nn.softmax_cross_entropy_with_logits(labels=y, logits=pred))\n",
    "train_op = tf.train.AdamOptimizer(lr).minimize(loss)"
   ]
  },
  {
   "cell_type": "code",
   "execution_count": 99,
   "metadata": {
    "collapsed": true
   },
   "outputs": [],
   "source": [
    "correct_pred = tf.equal(tf.argmax(pred, 1), tf.argmax(y, 1))\n",
    "accuracy = tf.reduce_mean(tf.cast(correct_pred, dtype=tf.float32))"
   ]
  },
  {
   "cell_type": "code",
   "execution_count": 100,
   "metadata": {
    "collapsed": true
   },
   "outputs": [],
   "source": [
    "init = tf.global_variables_initializer()"
   ]
  },
  {
   "cell_type": "code",
   "execution_count": 101,
   "metadata": {},
   "outputs": [
    {
     "data": {
      "application/vnd.jupyter.widget-view+json": {
       "model_id": "55140d1cbcd64b3a92788a4cc0218773",
       "version_major": 2,
       "version_minor": 0
      },
      "text/plain": [
       "A Jupyter Widget"
      ]
     },
     "metadata": {},
     "output_type": "display_data"
    },
    {
     "name": "stdout",
     "output_type": "stream",
     "text": [
      "\n"
     ]
    }
   ],
   "source": [
    "loss_list = []\n",
    "accuracy_list = []\n",
    "\n",
    "with tf.Session() as sess:\n",
    "    sess.run(init)\n",
    "    \n",
    "    batch = int(mnist.train.num_examples / batch_size)\n",
    "    test_x = mnist.test.images.reshape([-1, n_input])\n",
    "    test_y = mnist.test.labels\n",
    "    \n",
    "    for _ in tqdm_notebook(range(epoch)):\n",
    "        for _ in range(batch):\n",
    "            batch_x, batch_y = mnist.train.next_batch(batch_size)\n",
    "            batch_x = batch_x.reshape([-1, n_input])\n",
    "            _, _loss = sess.run([train_op, loss], feed_dict={x: batch_x, y: batch_y})\n",
    "            loss_list.append(_loss)\n",
    "            \n",
    "        _accuracy, coefficients = sess.run([accuracy, a], feed_dict={x: test_x, y:test_y})\n",
    "        accuracy_list.append(_accuracy)\n",
    "            \n",
    "#         print('z range:', _z_range)\n",
    "#         print('a:', coefficients)"
   ]
  },
  {
   "cell_type": "code",
   "execution_count": 102,
   "metadata": {
    "scrolled": true
   },
   "outputs": [
    {
     "data": {
      "text/plain": [
       "<matplotlib.text.Text at 0x1a28bbf0b8>"
      ]
     },
     "execution_count": 102,
     "metadata": {},
     "output_type": "execute_result"
    },
    {
     "data": {
      "image/png": "[encoded data removed]",
      "text/plain": [
       "<matplotlib.figure.Figure at 0x1a1b51c6a0>"
      ]
     },
     "metadata": {},
     "output_type": "display_data"
    }
   ],
   "source": [
    "fig = plt.figure(figsize=(12, 5))\n",
    "\n",
    "plt.subplot(1, 2, 1)\n",
    "plt.plot(loss_list)\n",
    "plt.title('Trainable / Loss')\n",
    "\n",
    "plt.subplot(1, 2, 2)\n",
    "plt.plot(accuracy_list)\n",
    "plt.title('Trainable / Accuracy')"
   ]
  },
  {
   "cell_type": "code",
   "execution_count": 103,
   "metadata": {},
   "outputs": [
    {
     "name": "stdout",
     "output_type": "stream",
     "text": [
      "Best loss: 0.116646\n",
      "Best accurracy: 0.9015\n"
     ]
    }
   ],
   "source": [
    "print('Best loss:', np.min(loss_list))\n",
    "print('Best accurracy:', np.max(accuracy_list))"
   ]
  },
  {
   "cell_type": "code",
   "execution_count": 104,
   "metadata": {},
   "outputs": [
    {
     "data": {
      "text/plain": [
       "array([  7.39379883e-01,  -4.56817913e+00,  -2.92838722e-01,\n",
       "        -7.63187036e-02,  -2.25123242e-02,   1.92746632e-02,\n",
       "         2.86431471e-03,  -1.12418341e-03], dtype=float32)"
      ]
     },
     "execution_count": 104,
     "metadata": {},
     "output_type": "execute_result"
    }
   ],
   "source": [
    "coefficients"
   ]
  },
  {
   "cell_type": "code",
   "execution_count": 107,
   "metadata": {
    "collapsed": true
   },
   "outputs": [],
   "source": [
    "x = np.arange(-5., 5., 0.1)\n",
    "x_power = [x**i for i in range(len(coefficients))]\n",
    "trainable_activation = np.sum(np.expand_dims(coefficients, 1) * x_power, 0)"
   ]
  },
  {
   "cell_type": "code",
   "execution_count": 108,
   "metadata": {
    "scrolled": false
   },
   "outputs": [
    {
     "data": {
      "text/plain": [
       "<matplotlib.legend.Legend at 0x1a1da3d550>"
      ]
     },
     "execution_count": 108,
     "metadata": {},
     "output_type": "execute_result"
    },
    {
     "data": {
      "image/png": "[encoded data removed]",
      "text/plain": [
       "<matplotlib.figure.Figure at 0x1a1b5e0908>"
      ]
     },
     "metadata": {},
     "output_type": "display_data"
    }
   ],
   "source": [
    "fig = plt.figure(figsize=(8, 8))\n",
    "plt.plot(x, 1/(1+np.exp(-x)), label='sigmoid')\n",
    "plt.plot(x, trainable_activation, 'r', label='trainable')\n",
    "plt.title('Trainable Activation Function')\n",
    "plt.legend()"
   ]
  },
  {
   "cell_type": "markdown",
   "metadata": {},
   "source": [
    "# Trainable Activation function: 1 hidden layer, 1 batch normalization"
   ]
  },
  {
   "cell_type": "markdown",
   "metadata": {},
   "source": [
    "### #weight = 7840 + 100\n",
    "### #power = 4\n",
    "### #total weight =  7840 + 100 + power = 7944"
   ]
  },
  {
   "cell_type": "code",
   "execution_count": 61,
   "metadata": {
    "collapsed": true
   },
   "outputs": [],
   "source": [
    "lr = 0.001\n",
    "batch_size = 128\n",
    "\n",
    "n_input = 28*28\n",
    "n_power = 8\n",
    "n_classes = 10\n",
    "epoch = 50"
   ]
  },
  {
   "cell_type": "code",
   "execution_count": 62,
   "metadata": {
    "collapsed": true
   },
   "outputs": [],
   "source": [
    "x = tf.placeholder(tf.float32, shape=[None, n_input], name='input')\n",
    "y = tf.placeholder(tf.float32, shape=[None, n_classes], name='output')"
   ]
  },
  {
   "cell_type": "code",
   "execution_count": 63,
   "metadata": {
    "collapsed": true
   },
   "outputs": [],
   "source": [
    "W = {0: tf.Variable(tf.random_uniform(shape=[n_input, n_classes], minval=-1., maxval=1., name='W_1')),\n",
    "     1: tf.Variable(tf.random_uniform(shape=[n_classes, n_classes], minval=-1., maxval=1., name='W_2'))}\n",
    "b = {0: tf.Variable(tf.constant(value=0., shape=[n_classes]), name='b_1'),\n",
    "     1: tf.Variable(tf.constant(value=0., shape=[n_classes]), name='b_2')}"
   ]
  },
  {
   "cell_type": "code",
   "execution_count": 64,
   "metadata": {
    "collapsed": true
   },
   "outputs": [],
   "source": [
    "a = tf.Variable(tf.multiply(tf.convert_to_tensor([2**(-i) for i in range(n_power)]),\n",
    "                            tf.random_normal(stddev=1, shape=[n_power]))\n",
    "                , name='a')"
   ]
  },
  {
   "cell_type": "code",
   "execution_count": 65,
   "metadata": {
    "collapsed": true
   },
   "outputs": [],
   "source": [
    "def DNN_test(X, weight, bias, a, n_power):\n",
    "    z = tf.matmul(X, weight[0]) + bias[0] # (batch_size, n_classes)\n",
    "    \n",
    "    mean, var = tf.nn.moments(x=z, axes=[0]) # (n_classes,)=(1, n_classes)\n",
    "    z = tf.div(tf.subtract(z, mean), var) # (batch_size, n_classes)\n",
    "    \n",
    "    z_power_list = [tf.pow(z, i) for i in range(n_power)]\n",
    "    z_power = tf.convert_to_tensor(z_power_list) # (n_power, batch_size, n_classes)\n",
    "    \n",
    "    a = tf.expand_dims(a, 1)  # (n_power, 1)\n",
    "    a = tf.expand_dims(a, -1) # (n_power, 1, 1)\n",
    "    output = tf.reduce_sum(tf.multiply(a, z_power), axis=0) # (batch_size, n_classes)\n",
    "    \n",
    "    output = tf.matmul(output, weight[1]) + bias[1]\n",
    "    \n",
    "    return output"
   ]
  },
  {
   "cell_type": "code",
   "execution_count": 66,
   "metadata": {},
   "outputs": [],
   "source": [
    "pred = DNN_test(x, W, b, a, n_power)"
   ]
  },
  {
   "cell_type": "code",
   "execution_count": 67,
   "metadata": {
    "collapsed": true
   },
   "outputs": [],
   "source": [
    "loss = tf.reduce_mean(tf.nn.softmax_cross_entropy_with_logits(labels=y, logits=pred))\n",
    "train_op = tf.train.AdamOptimizer(lr).minimize(loss)"
   ]
  },
  {
   "cell_type": "code",
   "execution_count": 68,
   "metadata": {
    "collapsed": true
   },
   "outputs": [],
   "source": [
    "correct_pred = tf.equal(tf.argmax(pred, 1), tf.argmax(y, 1))\n",
    "accuracy = tf.reduce_mean(tf.cast(correct_pred, dtype=tf.float32))"
   ]
  },
  {
   "cell_type": "code",
   "execution_count": 69,
   "metadata": {
    "collapsed": true
   },
   "outputs": [],
   "source": [
    "init = tf.global_variables_initializer()"
   ]
  },
  {
   "cell_type": "code",
   "execution_count": 73,
   "metadata": {},
   "outputs": [
    {
     "data": {
      "application/vnd.jupyter.widget-view+json": {
       "model_id": "57da9dc12eaf4e90982d5ef59090f43f",
       "version_major": 2,
       "version_minor": 0
      },
      "text/plain": [
       "A Jupyter Widget"
      ]
     },
     "metadata": {},
     "output_type": "display_data"
    },
    {
     "name": "stdout",
     "output_type": "stream",
     "text": [
      "Epoch:0, accuracy: 0.6587\n",
      "Epoch:1, accuracy: 0.7943\n",
      "Epoch:2, accuracy: 0.8341\n",
      "Epoch:3, accuracy: 0.8563\n",
      "Epoch:4, accuracy: 0.8709\n",
      "Epoch:5, accuracy: 0.8821\n",
      "Epoch:6, accuracy: 0.8906\n",
      "Epoch:7, accuracy: 0.8957\n",
      "Epoch:8, accuracy: 0.9011\n",
      "Epoch:9, accuracy: 0.9055\n",
      "Epoch:10, accuracy: 0.9073\n",
      "Epoch:11, accuracy: 0.9111\n",
      "Epoch:12, accuracy: 0.9122\n",
      "Epoch:13, accuracy: 0.9123\n",
      "Epoch:14, accuracy: 0.9151\n",
      "Epoch:15, accuracy: 0.9159\n",
      "Epoch:16, accuracy: 0.9154\n",
      "Epoch:17, accuracy: 0.9166\n",
      "Epoch:18, accuracy: 0.9172\n",
      "Epoch:19, accuracy: 0.9176\n",
      "Epoch:20, accuracy: 0.9184\n",
      "Epoch:21, accuracy: 0.9195\n",
      "Epoch:22, accuracy: 0.92\n",
      "Epoch:23, accuracy: 0.9207\n",
      "Epoch:24, accuracy: 0.9216\n",
      "Epoch:25, accuracy: 0.9221\n",
      "Epoch:26, accuracy: 0.9222\n",
      "Epoch:27, accuracy: 0.9232\n",
      "Epoch:28, accuracy: 0.9233\n",
      "Epoch:29, accuracy: 0.9219\n",
      "Epoch:30, accuracy: 0.9237\n",
      "Epoch:31, accuracy: 0.9235\n",
      "Epoch:32, accuracy: 0.9233\n",
      "Epoch:33, accuracy: 0.9241\n",
      "Epoch:34, accuracy: 0.9237\n",
      "Epoch:35, accuracy: 0.9252\n",
      "Epoch:36, accuracy: 0.9263\n",
      "Epoch:37, accuracy: 0.9261\n",
      "Epoch:38, accuracy: 0.9255\n",
      "Epoch:39, accuracy: 0.9275\n",
      "Epoch:40, accuracy: 0.9277\n",
      "Epoch:41, accuracy: 0.9285\n",
      "Epoch:42, accuracy: 0.9276\n",
      "Epoch:43, accuracy: 0.9264\n",
      "Epoch:44, accuracy: 0.9285\n",
      "Epoch:45, accuracy: 0.9291\n",
      "Epoch:46, accuracy: 0.9305\n",
      "Epoch:47, accuracy: 0.928\n",
      "Epoch:48, accuracy: 0.9302\n",
      "Epoch:49, accuracy: 0.9299\n",
      "\n"
     ]
    }
   ],
   "source": [
    "loss_list = []\n",
    "accuracy_list = []\n",
    "\n",
    "with tf.Session() as sess:\n",
    "    sess.run(init)\n",
    "    \n",
    "    batch = int(mnist.train.num_examples / batch_size)\n",
    "    test_x = mnist.test.images.reshape([-1, n_input])\n",
    "    test_y = mnist.test.labels\n",
    "    \n",
    "    for i in tqdm_notebook(range(epoch)):\n",
    "        for _ in range(batch):\n",
    "            batch_x, batch_y = mnist.train.next_batch(batch_size)\n",
    "            batch_x = batch_x.reshape([-1, n_input])\n",
    "            _, _loss = sess.run([train_op, loss], feed_dict={x: batch_x, y: batch_y})\n",
    "            loss_list.append(_loss)\n",
    "            \n",
    "        _accuracy, coefficients = sess.run([accuracy, a], feed_dict={x: test_x, y:test_y})\n",
    "        accuracy_list.append(_accuracy)\n",
    "        print('Epoch:%d, accuracy:'%i, _accuracy)"
   ]
  },
  {
   "cell_type": "code",
   "execution_count": 74,
   "metadata": {
    "scrolled": true
   },
   "outputs": [
    {
     "data": {
      "text/plain": [
       "<matplotlib.text.Text at 0x1a2555c320>"
      ]
     },
     "execution_count": 74,
     "metadata": {},
     "output_type": "execute_result"
    },
    {
     "data": {
      "image/png": "[encoded data removed]",
      "text/plain": [
       "<matplotlib.figure.Figure at 0x1a24ebf748>"
      ]
     },
     "metadata": {},
     "output_type": "display_data"
    }
   ],
   "source": [
    "fig = plt.figure(figsize=(12, 5))\n",
    "\n",
    "plt.subplot(1, 2, 1)\n",
    "plt.plot(loss_list)\n",
    "plt.title('BN+Trainable / Loss')\n",
    "\n",
    "plt.subplot(1, 2, 2)\n",
    "plt.plot(accuracy_list)\n",
    "plt.title('BN+Trainable / Accuracy')"
   ]
  },
  {
   "cell_type": "code",
   "execution_count": 75,
   "metadata": {},
   "outputs": [
    {
     "name": "stdout",
     "output_type": "stream",
     "text": [
      "Best loss: 0.0579587\n",
      "Best accurracy: 0.9305\n"
     ]
    }
   ],
   "source": [
    "print('Best loss:', np.min(loss_list))\n",
    "print('Best accurracy:', np.max(accuracy_list))"
   ]
  },
  {
   "cell_type": "code",
   "execution_count": 76,
   "metadata": {},
   "outputs": [
    {
     "name": "stdout",
     "output_type": "stream",
     "text": [
      "[ 1.00593174 -5.40489769 -4.13017607 -0.72721428 -0.83099389 -0.43452024\n",
      "  0.17047136  0.07741732]\n"
     ]
    }
   ],
   "source": [
    "print(coefficients)"
   ]
  },
  {
   "cell_type": "code",
   "execution_count": 77,
   "metadata": {
    "collapsed": true
   },
   "outputs": [],
   "source": [
    "x = np.arange(-2., 2., 0.1)\n",
    "x_power = [x**i for i in range(len(coefficients))]\n",
    "trainable_activation = np.sum(np.expand_dims(coefficients, 1) * x_power, 0)"
   ]
  },
  {
   "cell_type": "code",
   "execution_count": 78,
   "metadata": {
    "scrolled": false
   },
   "outputs": [
    {
     "data": {
      "text/plain": [
       "<matplotlib.legend.Legend at 0x1a258f14a8>"
      ]
     },
     "execution_count": 78,
     "metadata": {},
     "output_type": "execute_result"
    },
    {
     "data": {
      "image/png": "[encoded data removed]",
      "text/plain": [
       "<matplotlib.figure.Figure at 0x1a25546438>"
      ]
     },
     "metadata": {},
     "output_type": "display_data"
    }
   ],
   "source": [
    "fig = plt.figure(figsize=(8, 8))\n",
    "plt.plot(x, 1/(1+np.exp(-x)), label='sigmoid')\n",
    "plt.plot(x, trainable_activation, 'r', label='trainable')\n",
    "plt.title('Trainable Activation Function')\n",
    "plt.legend()"
   ]
  },
  {
   "cell_type": "code",
   "execution_count": null,
   "metadata": {
    "collapsed": true
   },
   "outputs": [],
   "source": []
  }
 ],
 "metadata": {
  "kernelspec": {
   "display_name": "Python 3",
   "language": "python",
   "name": "python3"
  },
  "language_info": {
   "codemirror_mode": {
    "name": "ipython",
    "version": 3
   },
   "file_extension": ".py",
   "mimetype": "text/x-python",
   "name": "python",
   "nbconvert_exporter": "python",
   "pygments_lexer": "ipython3",
   "version": "3.6.2"
  }
 },
 "nbformat": 4,
 "nbformat_minor": 2
}
